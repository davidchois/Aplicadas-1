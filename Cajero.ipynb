{
  "nbformat": 4,
  "nbformat_minor": 0,
  "metadata": {
    "colab": {
      "provenance": [],
      "authorship_tag": "ABX9TyPY0H7IUKgDst3RIdbZtprU",
      "include_colab_link": true
    },
    "kernelspec": {
      "name": "python3",
      "display_name": "Python 3"
    },
    "language_info": {
      "name": "python"
    }
  },
  "cells": [
    {
      "cell_type": "markdown",
      "metadata": {
        "id": "view-in-github",
        "colab_type": "text"
      },
      "source": [
        "<a href=\"https://colab.research.google.com/github/davidchois/Aplicadas-1/blob/main/Cajero.ipynb\" target=\"_parent\"><img src=\"https://colab.research.google.com/assets/colab-badge.svg\" alt=\"Open In Colab\"/></a>"
      ]
    },
    {
      "cell_type": "markdown",
      "source": [
        "#*Laboratorio 1 / Cajero:*\n",
        "##*Nombres:*\n",
        "### David Gonzalez Chois A00410841\n",
        "### Leonardo Andres Muñoz  A00412196\n",
        "### Luis Miguel Zambrano Sapuyes A00411441\n",
        "### Jose Manuel Alvarez Ruano A00411201"
      ],
      "metadata": {
        "id": "5XjumRZOwkZx"
      }
    },
    {
      "cell_type": "code",
      "execution_count": 21,
      "metadata": {
        "colab": {
          "base_uri": "https://localhost:8080/"
        },
        "id": "Nm2bvWsTu_zV",
        "outputId": "6ef0b810-f934-4ef4-c540-138fc3efb72b"
      },
      "outputs": [
        {
          "output_type": "stream",
          "name": "stdout",
          "text": [
            "Ingrese su nombreDavid\n",
            "///Bienvenido al cajero automatico David///\n",
            "Por favor ingrese su contraseña(Para fines practimos mostramos la contraseña):1928\n",
            "Ingrese su contraseña: 1928\n",
            "Acceso concedido\n",
            " /// Cajero Automatico ///\n",
            "1.Consultar saldo\n",
            "2.Depositar dinero\n",
            "3.Retirar dinero\n",
            "4.Transferir dinero\n",
            "5.Salir\n",
            "Seleccione una opcion: 1\n",
            "Saldo actual: $3500000\n",
            " /// Cajero Automatico ///\n",
            "1.Consultar saldo\n",
            "2.Depositar dinero\n",
            "3.Retirar dinero\n",
            "4.Transferir dinero\n",
            "5.Salir\n",
            "Seleccione una opcion: 4\n",
            "Ingrese el numero de cuenta destino: 150000\n",
            "Ingrese el monto: 150000\n",
            "Transferencia a la cuenta 150000 exitosa Nuevo saldo: $3350000.0\n",
            " /// Cajero Automatico ///\n",
            "1.Consultar saldo\n",
            "2.Depositar dinero\n",
            "3.Retirar dinero\n",
            "4.Transferir dinero\n",
            "5.Salir\n",
            "Seleccione una opcion: 5\n",
            "Su transaccion a terminado\n"
          ]
        }
      ],
      "source": [
        "import random\n",
        "import numpy as np\n",
        "\n",
        "def generar_saldo():\n",
        "    return int(np.random.choice(np.linspace(100000, 5000000, num=50)))\n",
        "\n",
        "def validar_monto():\n",
        "    while True:\n",
        "        try:\n",
        "            monto = float(input(\"Ingrese el monto: \"))\n",
        "            if monto > 0:\n",
        "                return monto\n",
        "            else:\n",
        "                print(\"El monto debe ser positivo\")\n",
        "        except ValueError:\n",
        "            print(\"Entrada invalida Intente nuevamente\")\n",
        "\n",
        "def consultar_saldo(saldo):\n",
        "    print(f\"Saldo actual: ${saldo}\")\n",
        "\n",
        "def depositar(saldo):\n",
        "    monto = validar_monto()\n",
        "    saldo += monto\n",
        "    print(f\"Deposito exitoso Nuevo saldo: ${saldo}\")\n",
        "    return saldo\n",
        "\n",
        "def retirar(saldo):\n",
        "    monto = validar_monto()\n",
        "    if monto > saldo:\n",
        "        print(\"Fondos insuficientes\")\n",
        "    else:\n",
        "        saldo -= monto\n",
        "        print(f\"Retiro exitoso Nuevo saldo: ${saldo}\")\n",
        "    return saldo\n",
        "\n",
        "def transferir(saldo):\n",
        "    cuenta = input(\"Ingrese el numero de cuenta destino: \")\n",
        "    monto = validar_monto()\n",
        "    if monto > saldo:\n",
        "        print(\"Fondos insuficientes\")\n",
        "    else:\n",
        "        saldo -= monto\n",
        "        print(f\"Transferencia a la cuenta {cuenta} exitosa Nuevo saldo: ${saldo}\")\n",
        "    return saldo\n",
        "\n",
        "def verificar_contraseña():\n",
        "    contraseña_correcta = \"1928\"\n",
        "    intentos = 3\n",
        "    while intentos > 0:\n",
        "        contraseña = input(\"Ingrese su contraseña: \")\n",
        "        if contraseña == contraseña_correcta:\n",
        "            print(\"Acceso concedido\")\n",
        "            return True\n",
        "        else:\n",
        "            intentos -= 1\n",
        "            print(f\"Contraseña incorrecta Intentos restantes: {intentos}\")\n",
        "    print(\"Acceso denegado Tarjeta bloqueada\")\n",
        "    return False\n",
        "\n",
        "def menu():\n",
        "    nombre=input(\"Ingrese su nombre\")\n",
        "    print(f\"///Bienvenido al cajero automatico {nombre}///\")\n",
        "    print(\"Por favor ingrese su contraseña(Para fines practimos mostramos la contraseña):1928\")\n",
        "    if not verificar_contraseña():\n",
        "        return\n",
        "    saldo = generar_saldo()\n",
        "    while True:\n",
        "        print(\" /// Cajero Automatico ///\")\n",
        "        print(\"1.Consultar saldo\")\n",
        "        print(\"2.Depositar dinero\")\n",
        "        print(\"3.Retirar dinero\")\n",
        "        print(\"4.Transferir dinero\")\n",
        "        print(\"5.Salir\")\n",
        "        opcion = input(\"Seleccione una opcion: \")\n",
        "\n",
        "        if opcion == \"1\":\n",
        "            consultar_saldo(saldo)\n",
        "        elif opcion == \"2\":\n",
        "            saldo = depositar(saldo)\n",
        "        elif opcion == \"3\":\n",
        "            saldo = retirar(saldo)\n",
        "        elif opcion == \"4\":\n",
        "            saldo = transferir(saldo)\n",
        "        elif opcion == \"5\":\n",
        "            print(\"Su transaccion a terminado\")\n",
        "            break\n",
        "        else:\n",
        "            print(\"Opcion invalida Intente nuevamente\")\n",
        "\n",
        "\n",
        "menu()"
      ]
    }
  ]
}