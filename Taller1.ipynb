{
  "nbformat": 4,
  "nbformat_minor": 0,
  "metadata": {
    "colab": {
      "provenance": [],
      "include_colab_link": true
    },
    "kernelspec": {
      "name": "python3",
      "display_name": "Python 3"
    },
    "language_info": {
      "name": "python"
    }
  },
  "cells": [
    {
      "cell_type": "markdown",
      "metadata": {
        "id": "view-in-github",
        "colab_type": "text"
      },
      "source": [
        "<a href=\"https://colab.research.google.com/github/davidchois/Aplicadas-1/blob/main/Taller1.ipynb\" target=\"_parent\"><img src=\"https://colab.research.google.com/assets/colab-badge.svg\" alt=\"Open In Colab\"/></a>"
      ]
    },
    {
      "cell_type": "markdown",
      "source": [
        "#*Taller1:*\n",
        "##*Nombres:*\n",
        "### David Gonzalez Chois A00410841\n",
        "### Leonardo Andres Muñoz  A00412196\n",
        "### Luis Miguel Zambrano Sapuyes A00411441\n",
        "### Jose Manuel Alvarez Ruano A00411201\n"
      ],
      "metadata": {
        "id": "gsA0JFLUH49M"
      }
    },
    {
      "cell_type": "markdown",
      "source": [
        "# *Ejercicio 1:*"
      ],
      "metadata": {
        "id": "SN9PsN3man3A"
      }
    },
    {
      "cell_type": "markdown",
      "source": [
        "**punto 1**\n",
        "\n",
        "Ecuaciones y Despejes\n",
        "\n",
        "1. Área lateral de un cilindro\n",
        "\n",
        "   Ecuación original:\n",
        "   \\begin{equation}\n",
        "   A = 2\\pi r g\n",
        "   \\end{equation}\n",
        "\n",
        "   Despejando \\( r \\):\n",
        "   \\begin{equation}\n",
        "   r = \\frac{A}{2\\pi g}\n",
        "   \\end{equation}\n",
        "\n",
        "2. Volumen del cono\n",
        "\n",
        "   Ecuación original:\n",
        "   \\begin{equation}\n",
        "   V = \\frac{A_g h}{3}\n",
        "   \\end{equation}\n",
        "\n",
        "   Despejando \\( h \\):\n",
        "   \\begin{equation}\n",
        "   h = \\frac{3V}{A_g}\n",
        "   \\end{equation}\n",
        "\n",
        "3. Volumen de la esfera\n",
        "\n",
        "   Ecuación original:\n",
        "   \\begin{equation}\n",
        "   V = \\frac{4}{3} \\pi r^3\n",
        "   \\end{equation}\n",
        "\n",
        "   Despejando \\( r \\):\n",
        "   \\begin{equation}\n",
        "   r = \\sqrt[3]{\\frac{3V}{4\\pi}}\n",
        "   \\end{equation}\n",
        "\n",
        "4. Área del trapecio\n",
        "\n",
        "   Ecuación original:\n",
        "   \\begin{equation}\n",
        "   A = \\frac{(B + b) h}{2}\n",
        "   \\end{equation}\n",
        "\n",
        "   Despejando \\( h \\):\n",
        "   \\begin{equation}\n",
        "   h = \\frac{2A}{B + b}\n",
        "   \\end{equation}\n",
        "\n",
        "5. Intensidad eléctrica\n",
        "\n",
        "   Ecuación original:\n",
        "   \\begin{equation}\n",
        "   I = \\frac{q}{t}\n",
        "   \\end{equation}\n",
        "\n",
        "   Despejando \\( t \\):\n",
        "   \\begin{equation}\n",
        "   t = \\frac{q}{I}\n",
        "   \\end{equation}\n",
        "\n",
        "6. Ley de Ohm\n",
        "\n",
        "   Ecuación original:\n",
        "   \\begin{equation}\n",
        "   I = \\frac{V}{R}\n",
        "   \\end{equation}\n",
        "\n",
        "   Despejando \\( R \\):\n",
        "   \\begin{equation}\n",
        "   R = \\frac{V}{I}\n",
        "   \\end{equation}\n",
        "\n",
        "7. Energía eléctrica\n",
        "\n",
        "   Ecuación original:\n",
        "   \\begin{equation}\n",
        "   E = \\frac{V^2}{R} t\n",
        "   \\end{equation}\n",
        "\n",
        "   Despejando \\( R \\):\n",
        "   \\begin{equation}\n",
        "   R = \\frac{V^2 t}{E}\n",
        "   \\end{equation}\n",
        "\n",
        "8. Resistencias en paralelo\n",
        "\n",
        "   Ecuación original:\n",
        "   \\begin{equation}\n",
        "   \\frac{1}{R} = \\frac{1}{R_1} + \\frac{1}{R_2}\n",
        "   \\end{equation}\n",
        "\n",
        "   Despejando \\( R \\):\n",
        "   \\begin{equation}\n",
        "   R = \\frac{R_1 R_2}{R_1 + R_2}\n",
        "   \\end{equation}\n",
        "\n",
        "9. Ecuación de gases perfectos\n",
        "\n",
        "   Ecuación original:\n",
        "   \\begin{equation}\n",
        "   \\frac{P V}{T_0} = \\frac{P_f V_f}{T_f}\n",
        "   \\end{equation}\n",
        "\n",
        "   Despejando \\( P_f \\):\n",
        "   \\begin{equation}\n",
        "   P_f = \\frac{P V T_f}{V_f T_0}\n",
        "   \\end{equation}\n",
        "\n",
        "10. Intensidad eléctrica\n",
        "\n",
        "    Ecuación original:\n",
        "    \\begin{equation}\n",
        "    I = \\frac{V_a - V_b}{R}\n",
        "    \\end{equation}\n",
        "\n",
        "    Despejando \\( V_b \\):\n",
        "    \\begin{equation}\n",
        "    V_b = V_a - I R\n",
        "    \\end{equation}"
      ],
      "metadata": {
        "id": "UGJXNLPI0BYH"
      }
    },
    {
      "cell_type": "markdown",
      "source": [
        "# *Ejercicio 2:*\n"
      ],
      "metadata": {
        "id": "z9WiVNXOLRPz"
      }
    },
    {
      "cell_type": "code",
      "source": [
        "#Expresion 1:\n",
        "x1=(3*(-5+10+(-5))-2*((-2)+(-4)+10))**2\n",
        "print(\"Resultado 1:\",x1)\n",
        "\n",
        "#Expresion 2:\n",
        "x2=45+(3*(2+8)-8/4)+10-83\n",
        "\n",
        "print(\"Resultado 2:\", x2)\n",
        "\n",
        "#Expresion 3:\n",
        "x3=((-4 + 7)*2-10)*(-4)-7-3\n",
        "\n",
        "print(\"Resultado 3:\", x3)"
      ],
      "metadata": {
        "colab": {
          "base_uri": "https://localhost:8080/"
        },
        "id": "32Bno-EEMM72",
        "outputId": "b1799baa-c582-49f7-c58f-c3d1a4624e70"
      },
      "execution_count": null,
      "outputs": [
        {
          "output_type": "stream",
          "name": "stdout",
          "text": [
            "Resultado 1: 64\n",
            "Resultado 2: 0.0\n",
            "Resultado 3: 6\n"
          ]
        }
      ]
    },
    {
      "cell_type": "markdown",
      "source": [
        "# *Ejercicio 3:*"
      ],
      "metadata": {
        "id": "3-jdB8XMMjKb"
      }
    },
    {
      "cell_type": "code",
      "source": [
        "# Expresion 1:\n",
        "x1=(1/5)*((1/2)**2+(3/4)**2)+(10/25)*((1/2)**2+(3/4)**2)+(8/40)*((1/2)**2+(3/4)**2)\n",
        "print(\"Resultado 1:\",x1)\n",
        "\n",
        "# Expresion 2:\n",
        "x2=(9/4)*(6/8)**-1-(5/2)*(25/20)**-1+(40/8)*(20/16)**-1\n",
        "print(\"Resultado 2:\", x2)\n",
        "\n",
        "\n"
      ],
      "metadata": {
        "colab": {
          "base_uri": "https://localhost:8080/"
        },
        "id": "lQ4jVGpTMnCX",
        "outputId": "9b49de82-4562-4c35-ef56-6590ee5b8ebe"
      },
      "execution_count": null,
      "outputs": [
        {
          "output_type": "stream",
          "name": "stdout",
          "text": [
            "Resultado 1: 0.65\n",
            "Resultado 2: 5.0\n"
          ]
        }
      ]
    },
    {
      "cell_type": "markdown",
      "source": [
        "# *Ejercicio 4:*"
      ],
      "metadata": {
        "id": "hSBTym34aZWE"
      }
    },
    {
      "cell_type": "code",
      "source": [
        "#IMC\n",
        "print(\"Hola, cual es tu nombre?\")\n",
        "nombre = input()\n",
        "print(\"Hola \" + nombre, \"Cual es tu peso en Kg?\")\n",
        "peso = input()\n",
        "print(\"Cual es tu altura en M? \")\n",
        "altura = input()\n",
        "IMC = float(peso) / (float(altura)**2)\n",
        "print(\"Tu IMC es:\" , IMC)"
      ],
      "metadata": {
        "id": "xluWRKC7aYAG",
        "colab": {
          "base_uri": "https://localhost:8080/"
        },
        "outputId": "1505d31f-b8e9-43f9-f177-31d222680665"
      },
      "execution_count": null,
      "outputs": [
        {
          "output_type": "stream",
          "name": "stdout",
          "text": [
            "Hola, cual es tu nombre?\n",
            "Leo\n",
            "Hola Leo Cual es tu peso en Kg?\n",
            "80\n",
            "Cual es tu altura en M? \n",
            "1.70\n",
            "Tu IMC es: 27.68166089965398\n"
          ]
        }
      ]
    },
    {
      "cell_type": "markdown",
      "source": [
        "#*Ejercicio 5 :*"
      ],
      "metadata": {
        "id": "FH__fy4qIWF9"
      }
    },
    {
      "cell_type": "code",
      "execution_count": null,
      "metadata": {
        "id": "ZV5ORQl8GMVL",
        "colab": {
          "base_uri": "https://localhost:8080/"
        },
        "outputId": "536e118d-4795-430c-bc3d-82e6bbfb04cb"
      },
      "outputs": [
        {
          "output_type": "stream",
          "name": "stdout",
          "text": [
            "_______________________________________________________________\n",
            " Bienvenido a tu calculadora,por favor sigue las instrucciones \n",
            "_______________________________________________________________\n",
            "Ingrese su nombre: David\n",
            "Hola  David\n",
            "Ingrese  el primer numero: 3\n",
            "Ingrese el segundo  numero: 4\n",
            "Escribe que tipo de operacion deseas hacer 1/suma;2/resta;3/multiplicacion;4/division3\n",
            "El resultado de la operacion es 12\n",
            "Gracias por utilizar la calculadora David\n"
          ]
        }
      ],
      "source": [
        "print(\"_______________________________________________________________\")\n",
        "print(\" Bienvenido a tu calculadora,por favor sigue las instrucciones \")\n",
        "print(\"_______________________________________________________________\")\n",
        "nombre=input(\"Ingrese su nombre: \")\n",
        "print(\"Hola \",nombre)\n",
        "num1=int(input(\"Ingrese  el primer numero: \"))\n",
        "num2=int(input(\"Ingrese el segundo  numero: \"))\n",
        "operacion=int(input(\"Escribe que tipo de operacion deseas hacer 1/suma;2/resta;3/multiplicacion;4/division:  \"))\n",
        "if operacion==1:\n",
        "    print(\"El resultado de la operacion es\" ,num1+num2)\n",
        "elif operacion==2:\n",
        "    print(\"El resultado de la operacion es\" ,num1-num2)\n",
        "elif operacion==3:\n",
        "    print(\"El resultado de la operacion es\" ,num1*num2)\n",
        "elif operacion==4:\n",
        "    print(\"El resultado de la operacion es\" ,num1/num2)\n",
        "print(\"Gracias por utilizar la calculadora\", nombre)"
      ]
    },
    {
      "cell_type": "markdown",
      "source": [],
      "metadata": {
        "id": "bG9g9cmtH275"
      }
    },
    {
      "cell_type": "markdown",
      "source": [
        "#*Ejercicio 6:*"
      ],
      "metadata": {
        "id": "BZ9LhriYIeqz"
      }
    },
    {
      "cell_type": "code",
      "source": [
        "\n",
        "#Lista de precios de barril de preoleo de los ultimos 7 dia:\n",
        "precios_petroleo = [75.18, 74.87, 74.74, 74.87, 74.87, 74.87, 74.87]\n",
        "print(\"Precios del barril de petroleo en los ultimos 7 dias:\", precios_petroleo)\n",
        "\n",
        "#Precio de litro de cocacola:\n",
        "x = 0.89\n",
        "print(\"Precio de un litro de cocacola:\", x)\n",
        "\n",
        "#Litros por barril\n",
        "L_barril = 159\n",
        "print(\"Litros en un barril:\", L_barril)\n",
        "\n",
        "#Conversion de listos de Cocacola a barril:\n",
        "barril_cocacola = x * L_barril\n",
        "print(\"Precio de un barril de cocacola:\", barril_cocacola)\n",
        "\n",
        "#Lista del precio del barril de cocacola:\n",
        "precios_barrilcocacola = [barril_cocacola] * 7\n",
        "\n",
        "#Lista que relaciona el valor de los barriles de petroleo de los ultimos 7 dias con el valor de barril de cocacola:\n",
        "relacion_valor = [a / b for a, b in zip(precios_petroleo, precios_barrilcocacola)]\n",
        "\n",
        "print(\"Relacion entre el precio del barril de petroleo y el barril de cocacola:\", relacion_valor)\n",
        "print(\"Coclusiones:\")\n",
        "print(\"Ya que los resultados de la lsita de (ralcion_valor) son menores a 1,se puede afirmar que durante los ultimos 7 dias el valor de un barril de petrolio es menos que un de Cocacola,esto puede deberse a multiples factores.Por ejemplo el pretroleo de se vende en grandes cantidades y sin refienar mientras la cocacola se vende por unudades de hasta 250 mil,ademas tiene coste de embasado entre otros.\")\n",
        "\n",
        "\n",
        "\n"
      ],
      "metadata": {
        "colab": {
          "base_uri": "https://localhost:8080/"
        },
        "id": "C_Zmp2czIpBF",
        "outputId": "0026dd6c-bdb0-463d-ff96-1c11609c25d0"
      },
      "execution_count": null,
      "outputs": [
        {
          "output_type": "stream",
          "name": "stdout",
          "text": [
            "Precios del barril de petroleo en los ultimos 7 dias: [75.18, 74.87, 74.74, 74.87, 74.87, 74.87, 74.87]\n",
            "Precio de un litro de cocacola: 0.89\n",
            "Litros en un barril: 159\n",
            "Precio de un barril de cocacola: 141.51\n",
            "Relacion entre el precio del barril de petroleo y el barril de cocacola: [0.5312698749205004, 0.5290792170164653, 0.5281605540244506, 0.5290792170164653, 0.5290792170164653, 0.5290792170164653, 0.5290792170164653]\n",
            "Coclusiones:\n",
            "Ya que los resultados de la lsita de (ralcion_valor) son menores a 1,se puede afirmar que durante los ultimos 7 dias el valor de un barril de petrolio es menos que un de Cocacola,esto puede deberse a multiples factores.Por ejemplo el pretroleo de se vende en grandes cantidades y sin refienar mientras la cocacola se vende por unudades de hasta 250 mil,ademas tiene coste de embasado entre otros.\n"
          ]
        }
      ]
    },
    {
      "cell_type": "markdown",
      "source": [
        "## *Conclusiones punto 6:*\n",
        "\n",
        "### Ya que los resultados de la lista de (relacion_valor) son menores a 1,se puede afirmar que durante los ultimos 7 dias el valor de un barril de petrolio es menos que un de Cocacola,esto puede deberse a multiples factores.Por ejemplo el pretroleo de se vende en grandes cantidades y sin refinar(El petroleo crudo es mas barato debido a que debe de tratarse para usarse com combustible) mientras la cocacola se vende por unidades de hasta 250 ml,que consella a un coste de embasado entre otros.\n"
      ],
      "metadata": {
        "id": "XtHlgUUdXnYo"
      }
    }
  ]
}