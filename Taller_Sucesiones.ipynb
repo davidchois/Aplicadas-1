{
  "cells": [
    {
      "cell_type": "markdown",
      "metadata": {
        "id": "view-in-github",
        "colab_type": "text"
      },
      "source": [
        "<a href=\"https://colab.research.google.com/github/davidchois/Aplicadas-1/blob/main/Taller_Sucesiones.ipynb\" target=\"_parent\"><img src=\"https://colab.research.google.com/assets/colab-badge.svg\" alt=\"Open In Colab\"/></a>"
      ]
    },
    {
      "cell_type": "markdown",
      "source": [
        "# *Taller Sucesiones:*\n",
        "##*Nombres:*\n",
        "### David Gonzalez Chois A00410841\n",
        "### Leonardo Andres Muñoz  A00412196\n",
        "### Luis Miguel Zambrano Sapuyes A00411441\n",
        "### Jose Manuel Alvarez Ruano A00411201\n"
      ],
      "metadata": {
        "id": "drWOdR0-SlND"
      }
    },
    {
      "cell_type": "markdown",
      "source": [
        "#1.2"
      ],
      "metadata": {
        "id": "WIl8yLuDrXoL"
      }
    },
    {
      "cell_type": "markdown",
      "source": [
        "#Problema 2.1"
      ],
      "metadata": {
        "id": "ggHya7hhkwx2"
      }
    },
    {
      "cell_type": "markdown",
      "source": [
        "###Punto 1"
      ],
      "metadata": {
        "id": "Af2R8jF9l7uJ"
      }
    },
    {
      "cell_type": "markdown",
      "source": [
        "\n",
        "\n",
        "$$(a)\\quad a_1 = 1,\\; a_2 = \\frac{1}{3},\\; a_3 = \\frac{1}{9},\\; a_4 = \\frac{1}{27},\\; ... $$\n",
        "\n",
        "$$ a_n = \\frac{1}{3^{n-1}}$$\n",
        "\n",
        "$$(b)\\quad a_1 = 1,\\; a_2 = \\frac{1}{2},\\; a_3 = \\frac{1}{3},\\; a_4 = \\frac{1}{4},\\; ... $$\n",
        "\n",
        "$$ a_n = \\frac{1}{n}$$\n",
        "\n",
        "$$(c)\\quad a_1 = \\frac{3}{2},\\; a_2 = \\frac{5}{3},\\; a_3 = \\frac{7}{4},\\; a_4 = \\frac{9}{5},\\; ... $$\n",
        "\n",
        "$$ a_n = \\frac{2n-1}{n}$$\n",
        "\n",
        "$$(d)\\quad a_1 = -1,\\; a_2 = \\frac{1}{3},\\; a_3 = -\\frac{1}{5},\\; a_4 = \\frac{1}{7},\\; ... $$\n",
        "\n",
        "$$ a_n = \\frac{(-1)^n}{2n-1}$$\n",
        "\n",
        "\n"
      ],
      "metadata": {
        "id": "FTSgFBa8mASK"
      }
    },
    {
      "cell_type": "markdown",
      "source": [
        "###Punto 2"
      ],
      "metadata": {
        "id": "BWvG1goHpEXT"
      }
    },
    {
      "cell_type": "markdown",
      "source": [
        "$$(a)\\quad a_n = \\frac{1}{3n},\\quad n = 0,1,2,...$$\n",
        "\n",
        "$$\\lim_{n\\to\\infty} a_n = 0\\quad Converge$$\n",
        "\n",
        "$$(b)\\quad a_n = \\pi^n,\\quad n = 0,1,2,...$$\n",
        "\n",
        "$$\\lim_{n\\to\\infty} a_n = \\infty\\quad Diverge$$\n",
        "\n",
        "$$(c)\\quad b_n = \\frac{3n - 1}{2n + 6},\\quad n = 1,2,3,...$$\n",
        "\n",
        "$$\\lim_{n\\to\\infty} b_n = \\frac{3}{2}\\quad Converge$$\n",
        "\n",
        "$$(d)\\quad c_n = \\cos(\\pi n),\\quad n = 0,1,2,...$$\n",
        "\n",
        "$$\\lim_{n\\to\\infty} c_n\\quad no\\quad existe\\quad Diverge$$\n",
        "\n",
        "$$(e)\\quad a_n = \\frac{3n^4 - 6n^3 + 1}{5n^3 + n^2 + 2},\\quad n = 1,2,3,...$$\n",
        "\n",
        "$$\\lim_{n\\to\\infty} a_n = \\infty\\quad Diverge$$\n",
        "\n",
        "$$(f)\\quad b_n = \\frac{2n^5 - 3n^2 + 23}{7n^5 + 13n^4 - 12},\\quad n = 1,2,3,...$$\n",
        "\n",
        "$$\\lim_{n\\to\\infty} b_n = \\frac{2}{7} \\quad Converge$$\n",
        "\n",
        "$$(g)\\quad c_n = \\frac{45 - 16n^2}{13 + 5n + 6n^3},\\quad n = 1,2,3,...$$\n",
        "\n",
        "$$\\lim_{n\\to\\infty} c_n = 0\\quad Converge$$\n",
        "\n",
        "$$(h)\\quad b_n = \\frac{3n + 1}{\\sqrt{4n^2 + 1}},\\quad n = 1,2,3,...$$\n",
        "\n",
        "$$\\lim_{n\\to\\infty} b_n = \\frac{3}{2}\\quad Converge$$\n",
        "\n",
        "$$(i)\\quad a_n = (-2)^{2n+1},\\quad n = 1,2,3,...$$\n",
        "\n",
        "$$\\lim_{n\\to\\infty} a_n = -\\infty\\quad Diverge$$\n",
        "\n",
        "$$(j)\\quad a_n = \\frac{10 - 16n^3}{1 + n^2},\\quad n = 1,2,3,...$$\n",
        "\n",
        "$$\\lim_{n\\to\\infty} a_n = -\\infty\\quad Diverge$$\n",
        "\n",
        "$$(k)\\quad a_n = \\sqrt{\\frac{3n^2 + n - 6}{5n^2 + 16}},\\quad n = 1,2,3,...$$\n",
        "\n",
        "$$\\lim_{n\\to\\infty} a_n = \\sqrt{\\frac{3}{5}}\\quad Converge$$\n",
        "\n",
        "$$(l)\\quad b_n = \\frac{(-1)^n}{5^n},\\quad n = 0,1,2,...$$\n",
        "\n",
        "$$\\lim_{n\\to\\infty} b_n = 0\\quad Converge$$\n"
      ],
      "metadata": {
        "id": "5fu8W9WL4DqZ"
      }
    },
    {
      "cell_type": "markdown",
      "source": [
        "##Punto 3"
      ],
      "metadata": {
        "id": "Wtu7JbFhpRrb"
      }
    },
    {
      "cell_type": "markdown",
      "source": [
        "Explica porque:\n",
        "\n",
        "$$-\\frac{1}{n} \\;\\le\\; \\frac{\\sin(n)}{n} \\;\\le\\; \\frac{1}{n}$$\n"
      ],
      "metadata": {
        "id": "VVYhaIaC65-Z"
      }
    },
    {
      "cell_type": "markdown",
      "source": [
        "El numerador (sin(n)) siempre está comprendido entre (-1) y (1), mientras que el denominador (n) crece indefinidamente. Por lo tanto, al dividir una cantidad acotada entre un valor que tiende a infinito, $(\\frac{\\sin(n)}{n})$ se aproxima a \\(0\\).\n",
        "\n",
        "Aplicando el **Teorema del Sandwich** (o Teorema de la Compresion), se observa que:\n",
        "\n",
        "$$\n",
        "-\\frac{1}{n} \\;\\le\\; \\frac{\\sin(n)}{n} \\;\\le\\; \\frac{1}{n},\n",
        "$$\n",
        "\n",
        "y como\n",
        "\n",
        "$$\n",
        "\\lim_{n \\to \\infty} \\left(-\\frac{1}{n}\\right) = 0\n",
        "\\quad \\text{y} \\quad\n",
        "\\lim_{n \\to \\infty} \\left(\\frac{1}{n}\\right) = 0,\n",
        "$$\n",
        "\n",
        "por el Teorema del Sandwich se concluye que\n",
        "\n",
        "$$\n",
        "\\lim_{n \\to \\infty} \\frac{\\sin(n)}{n} = 0.\n",
        "$$\n"
      ],
      "metadata": {
        "id": "ViIs-1ropQ42"
      }
    },
    {
      "cell_type": "code",
      "source": [
        "import matplotlib.pyplot as plt\n",
        "import numpy as np\n",
        "\n",
        "n = np.linspace(1, 50, 200)\n",
        "x = np.sin(n)/n\n",
        "\n",
        "p = -1/n\n",
        "o = 1/n\n",
        "\n",
        "\n",
        "plt.figure(figsize=(10, 6))\n",
        "\n",
        "plt.plot(n, p, \"-r\")\n",
        "plt.plot(n, o, \"-\")\n",
        "plt.plot(n, x, \"--k\")\n",
        "plt.xlabel(\"n\")\n",
        "plt.ylabel(\"Valor de la función\")\n",
        "plt.title(r\"Gráfico de la función $\\frac{\\sin(n)}{n}$\")\n",
        "\n",
        "plt.show()"
      ],
      "metadata": {
        "colab": {
          "base_uri": "https://localhost:8080/",
          "height": 571
        },
        "id": "AZoAg0yhkwhZ",
        "outputId": "acb0f1db-8ff9-44d7-95ce-396f0c81cac0"
      },
      "execution_count": null,
      "outputs": [
        {
          "output_type": "display_data",
          "data": {
            "text/plain": [
              "<Figure size 1000x600 with 1 Axes>"
            ],
            "image/png": "[encoded data removed]"
          },
          "metadata": {}
        }
      ]
    },
    {
      "cell_type": "markdown",
      "source": [
        "##Punto 4"
      ],
      "metadata": {
        "id": "KzP_8Inc0GyC"
      }
    },
    {
      "cell_type": "markdown",
      "source": [
        "$$ a_n = \\left(1 + \\frac{1}{n}\\right)^n,\\quad n = 1,2,3,...$$"
      ],
      "metadata": {
        "id": "daEiDS6i9exq"
      }
    },
    {
      "cell_type": "code",
      "source": [
        "import matplotlib.pyplot as plt\n",
        "import math as mt\n",
        "import numpy as np\n",
        "\n",
        "#Punto a\n",
        "\n",
        "n = np.arange(1, 6)\n",
        "a_n = (1+(1/n))**n\n",
        "\n",
        "print (\"Punto a:\")\n",
        "for a, b in zip(n,a_n):\n",
        "  print(f\"El valor a_{a} es {b}\")\n",
        "\n",
        "print (\"\")\n",
        "\n",
        "#Punto b\n",
        "\n",
        "\n",
        "n_values = np.arange(1, 201)\n",
        "a_n = (1+(1/n_values))**n_values\n",
        "\n",
        "\n",
        "#Punto c\n",
        "\n",
        "e = mt.e\n",
        "\n",
        "plt.figure(figsize=(10, 6))\n",
        "plt.plot(n_values, a_n, \"-\")\n",
        "plt.axhline(y=e, color = \"r\")\n",
        "plt.xlabel(\"n\")\n",
        "plt.ylabel(\"Valor de la función\")\n",
        "plt.title(r\"Gráfico de la función $a_n$\")\n",
        "plt.grid()\n",
        "plt.show()\n",
        "print (\"\")\n",
        "#Punto d\n",
        "\n",
        "print (\"Punto d:\")\n",
        "print(\"La grafica muestra que a_n se acerca a e cuando n crece, lo que respalda que el limite es e.\")\n",
        "\n",
        "print (\"\")\n",
        "\n",
        "#Punto e\n",
        "\n",
        "\n",
        "print (\"Punto e:\")\n",
        "mayor_n = 0\n",
        "valor_a_n = 0\n",
        "\n",
        "for n in n_values:\n",
        "    a_n = (1 + 1/n)**n\n",
        "    if a_n < 2.7:\n",
        "        mayor_n = n\n",
        "        valor_a_n = a_n\n",
        "\n",
        "if mayor_n > 0:\n",
        "    print(f\"El mayor valor de n donde a_n <= 2.7 es {mayor_n}, con a_n = {valor_a_n:.5f}\")\n",
        "else:\n",
        "    print(\"No se encontró ningún n que cumpla la condición.\")\n",
        "\n",
        "print (\"\")\n",
        "\n",
        "#Punto f\n",
        "\n",
        "menor_n = 0\n",
        "valor_a_n = 0\n",
        "\n",
        "for n in n_values:\n",
        "    a_n = (1 + 1/n)**n\n",
        "    if abs(a_n - e) < 0.01:\n",
        "        menor_n = n\n",
        "        valor_a_n = a_n\n",
        "        break\n",
        "\n",
        "print (\"Punto f:\")\n",
        "if menor_n > 0:\n",
        "    print(f\"El menor valor de n para el cual |a_n - e| < 0.01 es {menor_n}, con a_n = {valor_a_n:.5f}\")\n",
        "else:\n",
        "    print(\"No se encontro ningun n que cumpla la condicion.\")"
      ],
      "metadata": {
        "colab": {
          "base_uri": "https://localhost:8080/",
          "height": 845
        },
        "id": "zBxFoSKmw1uo",
        "outputId": "09ac7ef3-9b7f-4b6a-c21c-df1f5e1da8f5"
      },
      "execution_count": null,
      "outputs": [
        {
          "output_type": "stream",
          "name": "stdout",
          "text": [
            "Punto a:\n",
            "El valor a_1 es 2.0\n",
            "El valor a_2 es 2.25\n",
            "El valor a_3 es 2.37037037037037\n",
            "El valor a_4 es 2.44140625\n",
            "El valor a_5 es 2.4883199999999994\n",
            "\n"
          ]
        },
        {
          "output_type": "display_data",
          "data": {
            "text/plain": [
              "<Figure size 1000x600 with 1 Axes>"
            ],
            "image/png": "[encoded data removed]"
          },
          "metadata": {}
        },
        {
          "output_type": "stream",
          "name": "stdout",
          "text": [
            "\n",
            "Punto d:\n",
            "La grafica muestra que a_n se acerca a e cuando n crece, lo que respalda que el limite es e.\n",
            "\n",
            "Punto e:\n",
            "El mayor valor de n donde a_n <= 2.7 es 73, con a_n = 2.69989\n",
            "\n",
            "Punto f:\n",
            "El menor valor de n para el cual |a_n - e| < 0.01 es 135, con a_n = 2.70828\n"
          ]
        }
      ]
    },
    {
      "cell_type": "markdown",
      "source": [
        "##Punto 5"
      ],
      "metadata": {
        "id": "dCd0GCtCyyiC"
      }
    },
    {
      "cell_type": "markdown",
      "source": [
        "\n",
        "$$a_n = n \\cdot\\sin\\left(\\frac{1}{n}\\right),\\quad n = 1,2,3,...$$\n",
        "\n",
        "\n",
        "\n",
        "\n"
      ],
      "metadata": {
        "id": "Fp91Xtjz-F4u"
      }
    },
    {
      "cell_type": "code",
      "source": [
        "import matplotlib.pyplot as plt\n",
        "import math as mt\n",
        "import numpy as np\n",
        "\n",
        "#Punto a\n",
        "\n",
        "n = np.arange(1, 6)\n",
        "a_n = n * np.sin(1 / n)\n",
        "\n",
        "print(\"Punto a:\")\n",
        "for i, val in zip(n, a_n):\n",
        "    print(f\"El valor a_{i} es {val}\")\n",
        "print(\"\")\n",
        "\n",
        "#Punto b\n",
        "\n",
        "\n",
        "n_values = np.arange(1, 201)\n",
        "a_n = n_values * np.sin(1/n_values)\n",
        "\n",
        "\n",
        "#Punto c\n",
        "\n",
        "\n",
        "\n",
        "plt.figure(figsize=(10, 6))\n",
        "plt.plot(n_values, a_n, \"-\")\n",
        "plt.axhline(y=1, color = \"r\")\n",
        "plt.xlabel(\"n\")\n",
        "plt.ylabel(\"Valor de la función\")\n",
        "plt.title(r\"Gráfico de la función $a_n$\")\n",
        "plt.grid(True)\n",
        "plt.show()\n",
        "print(\"\")\n",
        "#Punto d\n",
        "\n",
        "print (\"Punto d:\")\n",
        "print(\"La grafica muestra que a_n se acerca a e cuando n crece, lo que respalda que el limite es e.\")\n",
        "print(\"\")\n",
        "#Punto e\n",
        "\n",
        "\n",
        "print (\"Punto e:\")\n",
        "mayor_n = 0\n",
        "valor_a_n = 0\n",
        "\n",
        "for n in n_values:\n",
        "    a_n = n * np.sin(1/n)\n",
        "    if a_n < 0.999:\n",
        "        mayor_n = n\n",
        "        valor_a_n = a_n\n",
        "\n",
        "if mayor_n > 0:\n",
        "    print(f\"El mayor valor de n donde a_n < 0,999 es {mayor_n}, con a_n = {valor_a_n:.5f}\")\n",
        "else:\n",
        "    print(\"No se encontró ningún n que cumpla la condición.\")\n",
        "print(\"\")\n",
        "#Punto f\n",
        "\n",
        "menor_n = 0\n",
        "valor_a_n = 0\n",
        "\n",
        "for n in n_values:\n",
        "    a_n = n * np.sin(1/n)\n",
        "    if abs(a_n - 1) < 0.0001:\n",
        "        menor_n = n\n",
        "        valor_a_n = a_n\n",
        "        break\n",
        "\n",
        "print (\"Punto f:\")\n",
        "if menor_n > 0:\n",
        "    print(f\"El menor valor de n para el cual |a_n - 1| < 0.0001 es {menor_n}, con a_n = {valor_a_n:.5f}\")\n",
        "else:\n",
        "    print(\"No se encontro ningun n que cumpla la condicion.\")\n"
      ],
      "metadata": {
        "colab": {
          "base_uri": "https://localhost:8080/",
          "height": 845
        },
        "id": "1LuDe4Epyxsw",
        "outputId": "67e61a62-1278-4a8a-9ff4-2cbf2b1818f2"
      },
      "execution_count": null,
      "outputs": [
        {
          "output_type": "stream",
          "name": "stdout",
          "text": [
            "Punto a:\n",
            "El valor a_1 es 0.8414709848078965\n",
            "El valor a_2 es 0.958851077208406\n",
            "El valor a_3 es 0.9815840903884566\n",
            "El valor a_4 es 0.9896158370180917\n",
            "El valor a_5 es 0.9933466539753061\n",
            "\n"
          ]
        },
        {
          "output_type": "display_data",
          "data": {
            "text/plain": [
              "<Figure size 1000x600 with 1 Axes>"
            ],
            "image/png": "[encoded data removed]"
          },
          "metadata": {}
        },
        {
          "output_type": "stream",
          "name": "stdout",
          "text": [
            "\n",
            "Punto d:\n",
            "La grafica muestra que a_n se acerca a e cuando n crece, lo que respalda que el limite es e.\n",
            "\n",
            "Punto e:\n",
            "El mayor valor de n donde a_n < 0,999 es 12, con a_n = 0.99884\n",
            "\n",
            "Punto f:\n",
            "El menor valor de n para el cual |a_n - 1| < 0.0001 es 41, con a_n = 0.99990\n"
          ]
        }
      ]
    },
    {
      "cell_type": "markdown",
      "source": [
        "##Punto 6"
      ],
      "metadata": {
        "id": "ROoXl4zuOaHb"
      }
    },
    {
      "cell_type": "markdown",
      "source": [
        "Teniendo en cuenta que el primer termino $a_1 = 10$, calculamos los primeros 5 terminos de la sucesión\n",
        "$a_{n+1} = \\frac{1}{3}a_n:$\n",
        "\n",
        "\n",
        "$$a_1 = 10$$\n",
        "\n",
        "$$a_2 = \\frac{10}{3}$$\n",
        "\n",
        "$$a_3 = \\frac{10}{9}$$\n",
        "\n",
        "$$a_4 = \\frac{10}{27}$$\n",
        "\n",
        "$$a_5 = \\frac{10}{81}$$\n",
        "\n",
        "El cociente (o razon) de la sucesion es $\\frac{1}{3}$, ya que al dividir el segundo termino entre el primer termino se obtiene:\n",
        "$\\frac{\\frac{10}{3}}{10} = \\frac{1}{3}$, y al dividir el tercer termino entre el segundo tambien se obtiene $\\frac{\\frac{10}{9}}{\\frac{10}{3}} = \\frac{1}{3}$. De esto se puede entender que es una sucesion geometrica porque el cociente es una constante.\n",
        "\n",
        "Aplicamos formula:\n",
        "\n",
        "$$a_n = a_1*r^{n-1}$$\n",
        "\n",
        "entonces:\n",
        "\n",
        "$$a_n = 10*\\frac{1}{3}^{n-1}$$\n",
        "\n",
        "$$a_n = 10*(\\frac{\\frac{1}{3}^n}{\\frac{1}{3}})$$\n",
        "\n",
        "$$a_n = 30*\\frac{1}{3}^n$$\n",
        "\n",
        "$$a_n = \\frac{30}{3^n}$$\n",
        "\n",
        "\n",
        "El limite de la sucesion es 0, pues $ 10*\\left(\\frac{1}{3}\\right)^{n-1} \\to 0 $ a medida que $ n \\to \\infty. $\n",
        "\n",
        "\n",
        "\n",
        "\n",
        "\n",
        "\n",
        "\n",
        "\n"
      ],
      "metadata": {
        "id": "gsSaPRioMkS6"
      }
    },
    {
      "cell_type": "code",
      "source": [
        "import matplotlib.pyplot as plt\n",
        "import numpy as np\n",
        "\n",
        "n = np.arange(1,51)\n",
        "x = 30/(3**n)\n",
        "\n",
        "plt.figure(figsize=(10, 6))\n",
        "plt.grid()\n",
        "plt.plot(n, x, \"-o\")\n",
        "plt.xlabel(\"n\")\n",
        "plt.ylabel(\"Valor de la función\")\n",
        "plt.title(r\"Gráfico de la función $a_n$\")\n",
        "\n"
      ],
      "metadata": {
        "colab": {
          "base_uri": "https://localhost:8080/",
          "height": 584
        },
        "id": "DBTpgPkFOwLT",
        "outputId": "2a91533e-2e6e-41a0-e9d3-62865405543c"
      },
      "execution_count": null,
      "outputs": [
        {
          "output_type": "execute_result",
          "data": {
            "text/plain": [
              "Text(0.5, 1.0, 'Gráfico de la función $a_n$')"
            ]
          },
          "metadata": {},
          "execution_count": 7
        },
        {
          "output_type": "display_data",
          "data": {
            "text/plain": [
              "<Figure size 1000x600 with 1 Axes>"
            ],
            "image/png": "[encoded data removed]"
          },
          "metadata": {}
        }
      ]
    },
    {
      "cell_type": "markdown",
      "source": [
        "##Punto 7\n"
      ],
      "metadata": {
        "id": "oNlbsBXvWl9n"
      }
    },
    {
      "cell_type": "markdown",
      "source": [
        "Teniendo en cuenta que el primer termino $ a_1 = 2 $, calculamos los primeros 5 terminos de la sucesion  \n",
        "$ a_{n+1} = 2a_n: $\n",
        "\n",
        "$$ a_1 = 2 $$\n",
        "\n",
        "$$ a_2 = 4 $$\n",
        "\n",
        "$$ a_3 = 8 $$\n",
        "\n",
        "$$ a_4 = 16 $$\n",
        "\n",
        "$$ a_5 = 32 $$\n",
        "\n",
        "El cociente (o razon) de la sucesion es $ 2 $, ya que al dividir el segundo termino entre el primer termino se obtiene:  \n",
        "$ \\frac{4}{2} = 2 $, y al dividir el tercer termino entre el segundo tambien se obtiene $ \\frac{8}{4} = 2 $. De esto se puede entender que es una sucesion geometrica porque el cociente es una constante.\n",
        "\n",
        "Aplicamos formula:\n",
        "\n",
        "$$ a_n = a_1 * r^{n-1} $$\n",
        "\n",
        "entonces:\n",
        "\n",
        "$$ a_n = 2 * 2^{n-1} $$\n",
        "\n",
        "$$ a_n = 2^n $$\n",
        "\n",
        "No existe límite finito, pues $2^n \\to \\infty$ a medida que $n \\to \\infty$."
      ],
      "metadata": {
        "id": "tscPM96JalDK"
      }
    },
    {
      "cell_type": "code",
      "source": [
        "import matplotlib.pyplot as plt\n",
        "import numpy as np\n",
        "\n",
        "n = np.arange(1, 51)          # n = 1 hasta 50\n",
        "a = 2**n                      # a_n = 2^n\n",
        "\n",
        "plt.figure(figsize=(10, 6))\n",
        "plt.grid()\n",
        "plt.plot(n, a, \"-o\")\n",
        "plt.xlabel(\"n\")\n",
        "plt.ylabel(\"Valor de la sucesion\")\n",
        "plt.title(r\"Grafico de la funcion $a_n = 2^n$\")\n",
        "plt.show()"
      ],
      "metadata": {
        "colab": {
          "base_uri": "https://localhost:8080/",
          "height": 566
        },
        "id": "Hk18swqFWoz3",
        "outputId": "dd8855ca-ce68-4489-cad2-9fc08ff03a9c"
      },
      "execution_count": null,
      "outputs": [
        {
          "output_type": "display_data",
          "data": {
            "text/plain": [
              "<Figure size 1000x600 with 1 Axes>"
            ],
            "image/png": "[encoded data removed]"
          },
          "metadata": {}
        }
      ]
    },
    {
      "cell_type": "markdown",
      "source": [
        "##Punto 8"
      ],
      "metadata": {
        "id": "LTCsf3LdceS5"
      }
    },
    {
      "cell_type": "markdown",
      "source": [
        "Una sucesion converge cuando, al aumentar ( n ), sus terminos se acercan a un valor fijo. En este caso, para cada ( n ) se tiene:\n",
        "$$\n",
        "a_n + b_n = (-1)^n + (-1)^{n+1} = 0.\n",
        "$$\n",
        "Esto significa que, sin importar el valor de \\( n \\), la suma siempre es 0. Como la sucesion resultante es constante (todos sus terminos son 0), su limite existe y es 0. Por ello, la sucesion \\(\\{a_n + b_n\\}\\) es convergente.\n"
      ],
      "metadata": {
        "id": "hBQFjtsncjNl"
      }
    },
    {
      "cell_type": "code",
      "source": [
        "import matplotlib.pyplot as plt\n",
        "import numpy as np\n",
        "\n",
        "n = np.arange(1, 101)\n",
        "a = (-1)**n\n",
        "b = (-1)**(n+1)\n",
        "\n",
        "plt.figure(figsize=(10, 6))\n",
        "plt.grid()\n",
        "plt.plot(n, a+b, \"-k\")\n",
        "plt.plot(n,a, \"*r\")\n",
        "plt.plot(n,b, \".b\")\n",
        "plt.xlabel(\"n\")\n",
        "plt.ylabel(\"Valor de la sucesion\")\n",
        "plt.title(r\"Grafico de la funcion $a_n + b_n$\")\n",
        "plt.show()"
      ],
      "metadata": {
        "colab": {
          "base_uri": "https://localhost:8080/",
          "height": 566
        },
        "id": "oHJQ9-DxuOEM",
        "outputId": "d830507d-b5bf-412c-b30b-a1ca6e4016ec"
      },
      "execution_count": null,
      "outputs": [
        {
          "output_type": "display_data",
          "data": {
            "text/plain": [
              "<Figure size 1000x600 with 1 Axes>"
            ],
            "image/png": "[encoded data removed]"
          },
          "metadata": {}
        }
      ]
    },
    {
      "cell_type": "markdown",
      "source": [
        "#1.3\n",
        "### Pra el desarrollo de este punto ,considerando que cada una de los siguientes puntos es un serie geometrica,aplicaremos la formula de suma infinita para este tipo de series:\n",
        "## $S = \\frac{a}{1 - r}, \\quad \\text{para } |r| < 1 $\n",
        "\n",
        "\n",
        "\n",
        "$$(a)\\quad \\sum_{n=1}^{\\infty} (\\frac{1}{3})^{n-1}$$\n",
        "\n",
        "Esta es una serie geometrica con $c = 1$ y $r = \\frac{1}{3}$. Dado que $|r| < 1$, la serie converge y su suma es:\n",
        "\n"
      ],
      "metadata": {
        "id": "IQ0FH_IG46nt"
      }
    },
    {
      "cell_type": "code",
      "source": [
        "def sum_geometric_series(a, r):\n",
        "    if abs(r) < 1:\n",
        "        return a / (1 - r)\n",
        "    else:\n",
        "        return \"La serie no converge\"\n",
        "\n",
        "# Parámetros de la serie (a)\n",
        "a = 1\n",
        "r = 1/3\n",
        "\n",
        "# Cálculo de la suma\n",
        "suma_a = sum_geometric_series(a, r)\n",
        "print(\"La suma de la serie (a) es:\", suma_a)"
      ],
      "metadata": {
        "colab": {
          "base_uri": "https://localhost:8080/"
        },
        "id": "nrZw-6ZH5Da9",
        "outputId": "41a2b45b-baf9-4b1c-bed7-f37c5dfa7bbc"
      },
      "execution_count": null,
      "outputs": [
        {
          "output_type": "stream",
          "name": "stdout",
          "text": [
            "La suma de la serie (a) es: 1.4999999999999998\n"
          ]
        }
      ]
    },
    {
      "cell_type": "markdown",
      "source": [
        "$$(b)\\quad \\sum_{n=1}^{\\infty} 4(0.21)^{n-1}$$\n",
        "\n",
        "Esta es una serie geometrica con $c = 4$ y $r = 0.21$. Dado que $|r| < 1$, la serie converge y su suma es:"
      ],
      "metadata": {
        "id": "5D8qN_B159UE"
      }
    },
    {
      "cell_type": "code",
      "source": [
        "def sum_geometric_series(a, r):\n",
        "    if abs(r) < 1:\n",
        "        return a / (1 - r)\n",
        "    else:\n",
        "        return \"La serie no converge\"\n",
        "\n",
        "# Parámetros de la serie (b)\n",
        "a = 4\n",
        "r = 0.21\n",
        "\n",
        "# Cálculo de la suma\n",
        "suma_b = sum_geometric_series(a, r)\n",
        "print(\"La suma de la serie (b) es:\", suma_b)\n"
      ],
      "metadata": {
        "colab": {
          "base_uri": "https://localhost:8080/"
        },
        "id": "ZAFgimav6Aae",
        "outputId": "43c43e4b-dceb-48e5-f00c-f0949e7645b8"
      },
      "execution_count": null,
      "outputs": [
        {
          "output_type": "stream",
          "name": "stdout",
          "text": [
            "La suma de la serie (b) es: 5.063291139240506\n"
          ]
        }
      ]
    },
    {
      "cell_type": "markdown",
      "source": [
        "$$(c)\\quad\\sum_{n=1}^{\\infty} \\frac{2}{5^n}$$\n",
        "\n",
        "Esta es una serie geometrica con $c = \\frac{2}{5}$ y $r = \\frac{1}{5}$. Dado que $|r| < 1$, la serie converge y su suma es:\n",
        "\n"
      ],
      "metadata": {
        "id": "0Ihj-qZ96Gfs"
      }
    },
    {
      "cell_type": "code",
      "source": [
        "def sum_geometric_series(a, r):\n",
        "    if abs(r) < 1:\n",
        "        return a / (1 - r)\n",
        "    else:\n",
        "        return \"La serie no converge\"\n",
        "\n",
        "# Parámetros de la serie (c)\n",
        "a = 2/5\n",
        "r = 1/5\n",
        "\n",
        "# Cálculo de la suma\n",
        "suma_c = sum_geometric_series(a, r)\n",
        "print(\"La suma de la serie (c) es:\", suma_c)\n"
      ],
      "metadata": {
        "id": "YQh3h4BC6LuO",
        "colab": {
          "base_uri": "https://localhost:8080/"
        },
        "outputId": "da13fcd2-e3e7-48e8-eb54-d10cbab3db7b"
      },
      "execution_count": null,
      "outputs": [
        {
          "output_type": "stream",
          "name": "stdout",
          "text": [
            "La suma de la serie (c) es: 0.5\n"
          ]
        }
      ]
    },
    {
      "cell_type": "markdown",
      "source": [
        "$$(d)\\quad\\sum_{n=0}^{\\infty} \\frac{2}{7^n}$$\n",
        "\n",
        "Esta es una serie geometrica con $c = 2$ y $r = \\frac{1}{7}$. Dado que $|r| < 1$, la serie converge y su suma es:\n"
      ],
      "metadata": {
        "id": "AmjxK2m56MDl"
      }
    },
    {
      "cell_type": "code",
      "source": [
        "def sum_geometric_series(a, r):\n",
        "    if abs(r) < 1:\n",
        "        return a / (1 - r)\n",
        "    else:\n",
        "        return \"La serie no converge\"\n",
        "\n",
        "# Parámetros de la serie (d)\n",
        "a = 2\n",
        "r = 1/7\n",
        "\n",
        "# Cálculo de la suma\n",
        "suma_d = sum_geometric_series(a, r)\n",
        "print(\"La suma de la serie (d) es:\", suma_d)\n"
      ],
      "metadata": {
        "colab": {
          "base_uri": "https://localhost:8080/"
        },
        "id": "MtzIdgFj6QHJ",
        "outputId": "780eebba-3ec9-46cc-d0f4-8260af1d3dfc"
      },
      "execution_count": null,
      "outputs": [
        {
          "output_type": "stream",
          "name": "stdout",
          "text": [
            "La suma de la serie (d) es: 2.333333333333333\n"
          ]
        }
      ]
    },
    {
      "cell_type": "markdown",
      "source": [
        "\n",
        "$$(e)\\quad\\sum_{n=1}^{\\infty} 7 (\\frac{1}{3})^n (\\frac{2}{5})^{n-1}$$\n",
        "\n",
        "Primero, reescribimos la serie como:\n",
        "$$\\sum_{n=1}^{\\infty} 7 (\\frac{1}{3}) (\\frac{1}{3})^{n-1} (\\frac{2}{5})^{n-1} = \\sum_{n=1}^{\\infty} \\frac{7}{3} (\\frac{1}{3} \\cdot \\frac{2}{5})^{n-1} = \\sum_{n=1}^{\\infty} \\frac{7}{3} (\\frac{2}{15})^{n-1}$$\n"
      ],
      "metadata": {
        "id": "IFBMfgqY6qtI"
      }
    },
    {
      "cell_type": "code",
      "source": [
        "def sum_geometric_series(a, r):\n",
        "    if abs(r) < 1:\n",
        "        return a / (1 - r)\n",
        "    else:\n",
        "        return \"La serie no converge\"\n",
        "\n",
        "# Parámetros de la serie (e)\n",
        "a = (7/3)\n",
        "r = (2/15)\n",
        "\n",
        "# Cálculo de la suma\n",
        "suma_e = sum_geometric_series(a, r)\n",
        "print(\"La suma de la serie (e) es:\", suma_e)\n"
      ],
      "metadata": {
        "colab": {
          "base_uri": "https://localhost:8080/"
        },
        "id": "SiPLdDN46sAc",
        "outputId": "ffbeff70-3e1c-4f95-da47-d45c80d9c27f"
      },
      "execution_count": null,
      "outputs": [
        {
          "output_type": "stream",
          "name": "stdout",
          "text": [
            "La suma de la serie (e) es: 2.6923076923076925\n"
          ]
        }
      ]
    },
    {
      "cell_type": "markdown",
      "source": [
        "$$(f)\\quad\\sum_{n=3}^{\\infty} (\\frac{2}{3})^n$$\n",
        "\n",
        "Reescribimos la serie para que comience en $n=1$:\n",
        "$$\\sum_{n=3}^{\\infty} (\\frac{2}{3})^n = (\\frac{2}{3})^3 \\sum_{n=0}^{\\infty} (\\frac{2}{3})^n = (\\frac{2}{3})^3 \\sum_{n=1}^{\\infty} (\\frac{2}{3})^{n-1}$$\n",
        "Aquí, $c = (\\frac{2}{3})^3 = \\frac{8}{27}$ y $r = \\frac{2}{3}$. Dado que $|r| < 1$, la serie converge y su suma es:\n",
        "$S = \\frac{c}{1 - r} = \\frac{\\frac{8}{27}}{1 - \\frac{2}{3}} = \\frac{\\frac{8}{27}}{\\frac{1}{3}} = \\frac{8}{27} \\cdot 3 = \\frac{8}{9}$\n"
      ],
      "metadata": {
        "id": "SUC6BWC76QW_"
      }
    },
    {
      "cell_type": "code",
      "source": [
        "def sum_geometric_series(a, r):\n",
        "    if abs(r) < 1:\n",
        "        return a / (1 - r)\n",
        "    else:\n",
        "        return \"La serie no converge\"\n",
        "\n",
        "# Parámetros de la serie (f)\n",
        "a = 8/27\n",
        "r = 2/3\n",
        "\n",
        "# Cálculo de la suma\n",
        "suma_f = sum_geometric_series(a, r)\n",
        "print(\"La suma de la serie (f) es:\", suma_f)\n"
      ],
      "metadata": {
        "colab": {
          "base_uri": "https://localhost:8080/"
        },
        "id": "AxySk2GB6SAe",
        "outputId": "bbb60e1c-d1fe-4df2-c351-06fbf31aa8f0"
      },
      "execution_count": null,
      "outputs": [
        {
          "output_type": "stream",
          "name": "stdout",
          "text": [
            "La suma de la serie (f) es: 0.8888888888888887\n"
          ]
        }
      ]
    },
    {
      "cell_type": "markdown",
      "source": [
        "$$(g)\\quad\\sum_{n=1}^{\\infty} (\\frac{3}{2})^{n-1}$$\n",
        "\n",
        "Esta es una serie geométrica con $c = 1$ y $r = \\frac{3}{2}$. Dado que $|r| > 1$, la serie diverge."
      ],
      "metadata": {
        "id": "3fXQUVos6SOY"
      }
    },
    {
      "cell_type": "code",
      "source": [
        "def sum_geometric_series(a, r):\n",
        "    if abs(r) < 1:\n",
        "        return a / (1 - r)\n",
        "    else:\n",
        "        return \"La serie no converge\"\n",
        "\n",
        "# Parámetros de la serie (g)\n",
        "a = 1\n",
        "r = 3/2\n",
        "\n",
        "# Cálculo de la suma\n",
        "suma_g = sum_geometric_series(a, r)\n",
        "print(\"La suma de la serie (g) es:\", suma_g)\n"
      ],
      "metadata": {
        "colab": {
          "base_uri": "https://localhost:8080/"
        },
        "id": "n2m0lL8I6UDh",
        "outputId": "ded2c767-3b9f-4dfa-d802-40b747ca6ca7"
      },
      "execution_count": null,
      "outputs": [
        {
          "output_type": "stream",
          "name": "stdout",
          "text": [
            "La suma de la serie (g) es: La serie no converge\n"
          ]
        }
      ]
    },
    {
      "cell_type": "markdown",
      "source": [
        "$$(h)\\quad\\sum_{n=1}^{\\infty} (0.99999)^n$$\n",
        "\n",
        "Esta es una serie geométrica con $c = 1$ y $r = 0.99999$. Dado que $|r| < 1$, la serie converge y su suma es:"
      ],
      "metadata": {
        "id": "Z_XEhqIb6URT"
      }
    },
    {
      "cell_type": "code",
      "source": [
        "def sum_geometric_series(a, r):\n",
        "    if abs(r) < 1:\n",
        "        return a / (1 - r)\n",
        "    else:\n",
        "        return \"La serie no converge\"\n",
        "\n",
        "# Parámetros de la serie (h)\n",
        "a = 1\n",
        "r = 0.99999\n",
        "\n",
        "# Cálculo de la suma\n",
        "suma_h = sum_geometric_series(a, r)\n",
        "print(\"La suma de la serie (h) es:\", suma_h)\n"
      ],
      "metadata": {
        "colab": {
          "base_uri": "https://localhost:8080/"
        },
        "id": "KNu9xQd96WEg",
        "outputId": "53f446b2-8bd4-442f-dcb5-0c75ae77e820"
      },
      "execution_count": null,
      "outputs": [
        {
          "output_type": "stream",
          "name": "stdout",
          "text": [
            "La suma de la serie (h) es: 100000.0000004551\n"
          ]
        }
      ]
    },
    {
      "cell_type": "markdown",
      "source": [
        "$$(i)\\quad\\sum_{n=1}^{\\infty} (1.00001)^n$$\n",
        "\n",
        "Esta es una serie geométrica con $c = 1$ y $r = 1.00001$. Dado que $|r| > 1$, la serie diverge."
      ],
      "metadata": {
        "id": "ox7ymYHZ6WTb"
      }
    },
    {
      "cell_type": "code",
      "source": [
        "def sum_geometric_series(a, r):\n",
        "    if abs(r) < 1:\n",
        "        return a / (1 - r)\n",
        "    else:\n",
        "        return \"La serie no converge\"\n",
        "\n",
        "# Parámetros de la serie (i)\n",
        "a = 1\n",
        "r = 1.00001\n",
        "\n",
        "# Cálculo de la suma\n",
        "suma_i = sum_geometric_series(a, r)\n",
        "print(\"La suma de la serie (i) es:\", suma_i)\n"
      ],
      "metadata": {
        "colab": {
          "base_uri": "https://localhost:8080/"
        },
        "id": "0RBvh4id6X0l",
        "outputId": "2c9df6b7-3564-44f2-c097-dfe6e7ea5ce6"
      },
      "execution_count": null,
      "outputs": [
        {
          "output_type": "stream",
          "name": "stdout",
          "text": [
            "La suma de la serie (i) es: La serie no converge\n"
          ]
        }
      ]
    },
    {
      "cell_type": "markdown",
      "source": [
        "$$(j)\\quad \\sum_{n=30}^{\\infty} 5 (\\frac{3^n}{7^{n-1}})$$\n",
        "\n",
        "Reescribimos la serie como:\n",
        "$\\sum_{n=30}^{\\infty} 5 (\\frac{3^n}{7^{n-1}}) = \\sum_{n=30}^{\\infty} 5 \\cdot 7 (\\frac{3}{7})^n = 35 \\sum_{n=30}^{\\infty} (\\frac{3}{7})^n = 35 (\\frac{3}{7})^{30} \\sum_{n=0}^{\\infty} (\\frac{3}{7})^n$\n",
        "Aquí,  $c = 35 (\\frac{3}{7})^{30}$ y $r = \\frac{3}{7}$. Dado que $|r| < 1$, la serie converge y su suma es:"
      ],
      "metadata": {
        "id": "bpNduehv6YQN"
      }
    },
    {
      "cell_type": "code",
      "source": [
        "def sum_geometric_series(a, r):\n",
        "    if abs(r) < 1:\n",
        "        return a / (1 - r)\n",
        "    else:\n",
        "        return \"La serie no converge\"\n",
        "\n",
        "# Parámetros de la serie (j)\n",
        "a = 35*((3/7)**30)\n",
        "r = 3/7\n",
        "\n",
        "# Cálculo de la suma\n",
        "suma_j = sum_geometric_series(a, r)\n",
        "print(\"La suma de la serie (j) es:\", suma_j)\n"
      ],
      "metadata": {
        "colab": {
          "base_uri": "https://localhost:8080/"
        },
        "id": "vTCG2O6C6ZlC",
        "outputId": "00d5d4cc-f752-447e-b843-65dcdda9cb57"
      },
      "execution_count": null,
      "outputs": [
        {
          "output_type": "stream",
          "name": "stdout",
          "text": [
            "La suma de la serie (j) es: 5.59503147747627e-10\n"
          ]
        }
      ]
    },
    {
      "cell_type": "markdown",
      "source": [
        "$$(k)\\quad\\sum_{n=100}^{\\infty} (\\frac{91}{89})^{n-1}$$\n",
        "\n",
        "Esta es una serie geométrica con $c = (\\frac{91}{89})^{99}$ y $r = \\frac{91}{89}$. Dado que $|r| > 1$, la serie diverge."
      ],
      "metadata": {
        "id": "5KfZH_gs6Zzc"
      }
    },
    {
      "cell_type": "code",
      "source": [
        "def sum_geometric_series(a, r):\n",
        "    if abs(r) < 1:\n",
        "        return a / (1 - r)\n",
        "    else:\n",
        "        return \"La serie no converge\"\n",
        "\n",
        "# Parámetros de la serie (k)\n",
        "a = (91/89)**99\n",
        "r = 91/89\n",
        "\n",
        "# Cálculo de la suma\n",
        "suma_k = sum_geometric_series(a, r)\n",
        "print(\"La suma de la serie (k) es:\", suma_k)\n"
      ],
      "metadata": {
        "colab": {
          "base_uri": "https://localhost:8080/"
        },
        "id": "EGYsNYr66bne",
        "outputId": "2611addf-8e34-41bf-bd1f-e779e1bd85c9"
      },
      "execution_count": null,
      "outputs": [
        {
          "output_type": "stream",
          "name": "stdout",
          "text": [
            "La suma de la serie (k) es: La serie no converge\n"
          ]
        }
      ]
    },
    {
      "cell_type": "markdown",
      "source": [
        "$$(l)\\quad\\sum_{n=1}^{\\infty} (\\frac{\\pi}{4})^n$$\n",
        "\n",
        "Esta es una serie geométrica con $c = \\frac{\\pi}{4}$ y $r = \\frac{\\pi}{4}$. Dado que $\\pi \\approx 3.14159$, tenemos que $r = \\frac{\\pi}{4} < 1$. La serie converge y su suma es:"
      ],
      "metadata": {
        "id": "p2C1pzb06b1c"
      }
    },
    {
      "cell_type": "code",
      "source": [
        "import math\n",
        "def sum_geometric_series(a, r):\n",
        "    if abs(r) < 1:\n",
        "        return a / (1 - r)\n",
        "    else:\n",
        "        return \"La serie no converge\"\n",
        "\n",
        "# Parámetros de la serie (l)\n",
        "a = math.pi/4\n",
        "r = math.pi/4\n",
        "\n",
        "# Cálculo de la suma\n",
        "suma_l = sum_geometric_series(a, r)\n",
        "print(\"La suma de la serie (l) es:\", suma_l)\n"
      ],
      "metadata": {
        "colab": {
          "base_uri": "https://localhost:8080/"
        },
        "id": "ysnik84s6dDx",
        "outputId": "9687b417-0373-46cb-fb22-bcfa8e5ea9cc"
      },
      "execution_count": null,
      "outputs": [
        {
          "output_type": "stream",
          "name": "stdout",
          "text": [
            "La suma de la serie (l) es: 3.659792366325487\n"
          ]
        }
      ]
    },
    {
      "cell_type": "markdown",
      "source": [
        "\n",
        "$$(m)\\quad\\sum_{n=1}^{\\infty} \\sin(\\pi n)$$\n",
        "\n",
        "Dado que $\\sin(\\pi n) = 0$ para todo entero $n$, la serie es:\n",
        "\n",
        "$$\\sum_{n=1}^{\\infty} 0 = 0$$"
      ],
      "metadata": {
        "id": "PDODH-S16dSX"
      }
    },
    {
      "cell_type": "code",
      "source": [
        "def sum_geometric_series(a, r):\n",
        "    if abs(r) < 1:\n",
        "        return a / (1 - r)\n",
        "    else:\n",
        "        return \"La serie no converge\"\n",
        "\n",
        "# Parámetros de la serie (m)\n",
        "a = 0\n",
        "r = 0\n",
        "\n",
        "# Cálculo de la suma\n",
        "suma_m = sum_geometric_series(a, r)\n",
        "print(\"La suma de la serie (m) es:\", suma_m)\n"
      ],
      "metadata": {
        "colab": {
          "base_uri": "https://localhost:8080/"
        },
        "id": "MB7w0_r-6fG1",
        "outputId": "a3ce96c8-ad14-4274-9331-b78212e7511b"
      },
      "execution_count": null,
      "outputs": [
        {
          "output_type": "stream",
          "name": "stdout",
          "text": [
            "La suma de la serie (m) es: 0.0\n"
          ]
        }
      ]
    },
    {
      "cell_type": "markdown",
      "source": [
        "\n",
        "$$(n)\\quad\\sum_{n=1}^{\\infty} \\cos(\\pi n)$$\n",
        "\n",
        "## No tiene una suma finita porque los términos alternan entre (-1) y (1) indefinidamente. Matemáticamente, esto significa que la serie diverge."
      ],
      "metadata": {
        "id": "mivAECwejVXE"
      }
    },
    {
      "cell_type": "markdown",
      "source": [
        "##Punto 2:\n",
        "Considera la serie infinita con la suma parcial n-ésima\n",
        "$s_n = 1 + 1 + \\frac{1}{2} + \\frac{1}{6} + ... + \\frac{1}{n!} = \\sum_{j=0}^{\\infty} \\frac{1}{j!}$.\n",
        "\n",
        "Nota que, por definición, $0! = 1$.\n",
        "\n",
        "(a) Muestra que $s_n < 3$ para todos los valores de $n$.\n",
        "\n",
        "Pista: Note que $n! = (1)(2)(3)...(n) \\geq (1)(2)(2)...(2) = 2^{n-1}$ para $n = 1, 2, 3,...$\n",
        "\n",
        "Tenemos que $n! \\geq 2^{n-1}$ para $n \\geq 1$. Entonces, $\\frac{1}{n!} \\leq \\frac{1}{2^{n-1}}$ para $n \\geq 1$.\n",
        "\n",
        "Así, $s_n = \\sum_{j=0}^{n} \\frac{1}{j!} = 1 + 1 + \\frac{1}{2!} + \\frac{1}{3!} + ... + \\frac{1}{n!} \\leq 1 + \\sum_{j=1}^{n} \\frac{1}{2^{j-1}} = 1 + \\sum_{j=0}^{n-1} \\frac{1}{2^j}$\n",
        "\n",
        "La serie $\\sum_{j=0}^{n-1} \\frac{1}{2^j}$ es una serie geométrica con $c = 1$ y $r = \\frac{1}{2}$. Por lo tanto, $\\sum_{j=0}^{n-1} \\frac{1}{2^j} < \\sum_{j=0}^{\\infty} \\frac{1}{2^j} = \\frac{1}{1 - \\frac{1}{2}} = 2$.\n",
        "\n",
        "Entonces, $s_n \\leq 1 + 2 = 3$.\n",
        "\n",
        "Por lo tanto, $s_n < 3$ para todos los valores de $n$.\n",
        "##(A):\n",
        "\n",
        "\n"
      ],
      "metadata": {
        "id": "CNp6zk-Z-VJ-"
      }
    },
    {
      "cell_type": "code",
      "source": [
        "import math\n",
        "\n",
        "def suma_serie_factorial(n):\n",
        "    return sum(1 / math.factorial(j) for j in range(n + 1))\n",
        "\n",
        "n = 500\n",
        "resultado = suma_serie_factorial(n)\n",
        "print(f\"La suma parcial s_{n} es aproximadamente: {resultado}\")\n"
      ],
      "metadata": {
        "colab": {
          "base_uri": "https://localhost:8080/"
        },
        "id": "cbpYnHMaAnjX",
        "outputId": "ed210abf-7567-439c-eabf-deaa602d2348"
      },
      "execution_count": null,
      "outputs": [
        {
          "output_type": "stream",
          "name": "stdout",
          "text": [
            "La suma parcial s_500 es aproximadamente: 2.7182818284590455\n"
          ]
        }
      ]
    },
    {
      "cell_type": "markdown",
      "source": [
        "##(B):\n",
        "(b) Combina (a) con el hecho de que $s_{n+1} > s_n$ para todo $n$ para concluir que $\\sum_{j=1}^{\\infty} \\frac{1}{j!}$ existe y es menor que 3.\n",
        "\n",
        "Dado que $s_{n+1} > s_n$ para todo $n$, la secuencia ${s_n}$ es monótona creciente. Del apartado (a), sabemos que $s_n < 3$ para todo $n$, lo que significa que la secuencia ${s_n}$ está acotada superiormente. Por el teorema de la secuencia monótona, una secuencia monótona creciente que está acotada superiormente converge. Por lo tanto, $\\sum_{j=1}^{\\infty} \\frac{1}{j!}$ existe y es menor que 3."
      ],
      "metadata": {
        "id": "6yrfLQ9hA0du"
      }
    },
    {
      "cell_type": "code",
      "source": [
        "import matplotlib.pyplot as plt\n",
        "import math\n",
        "\n",
        "# Función para calcular la suma de la serie\n",
        "def suma_serie_factorial(n):\n",
        "    return sum(1 / math.factorial(j) for j in range(n + 1))\n",
        "\n",
        "# Valores de n\n",
        "n_values = list(range(1, 50))\n",
        "suma_values = [suma_serie_factorial(n) for n in n_values]\n",
        "\n",
        "# Graficar\n",
        "plt.plot(n_values, suma_values, marker='o', label=r\"$s_n = \\sum_{j=0}^{n} \\frac{1}{j!}$\")\n",
        "plt.axhline(y=3, color='r', linestyle='--', label=\"Límite superior: 3\")\n",
        "plt.axhline(y=math.e, color='g', linestyle='-.', label=r\"Asíntota: $e \\approx 2.718$\")\n",
        "plt.xlabel(\"n\")\n",
        "plt.ylabel(\"s_n\")\n",
        "plt.legend()\n",
        "plt.title(\"Convergencia de la Serie\")\n",
        "plt.grid()\n",
        "plt.show()\n",
        "\n"
      ],
      "metadata": {
        "colab": {
          "base_uri": "https://localhost:8080/",
          "height": 472
        },
        "id": "qVfFNKScAzom",
        "outputId": "408eaf3c-8c67-401b-c633-a7423c9de9d8"
      },
      "execution_count": null,
      "outputs": [
        {
          "output_type": "display_data",
          "data": {
            "text/plain": [
              "<Figure size 640x480 with 1 Axes>"
            ],
            "image/png": "[encoded data removed]"
          },
          "metadata": {}
        }
      ]
    },
    {
      "cell_type": "markdown",
      "source": [
        "(c) De hecho, $\\sum_{j=1}^{\\infty} \\frac{1}{j!} = 1 + 1 + \\frac{1}{2} + \\frac{1}{6} + \\frac{1}{24} + ...$ es un número irracional bien conocido. Suma un número suficiente de términos para permitirte adivinar el valor de la suma. ¿Cuántos términos tomó?\n",
        "\n",
        "Sumemos algunos términos:\n",
        "$s_0 = 1$\n",
        "$s_1 = 1 + 1 = 2$\n",
        "$s_2 = 2 + \\frac{1}{2} = 2.5$\n",
        "$s_3 = 2.5 + \\frac{1}{6} \\approx 2.6667$\n",
        "$s_4 = 2.6667 + \\frac{1}{24} \\approx 2.7083$\n",
        "$s_5 = 2.7083 + \\frac{1}{120} \\approx 2.7167$\n",
        "$s_6 = 2.7167 + \\frac{1}{720} \\approx 2.7181$\n",
        "$s_7 = 2.7181 + \\frac{1}{5040} \\approx 2.71825$\n",
        "\n",
        "La suma parece aproximarse al número $e \\approx 2.71828$. Tomó alrededor de 7 términos para tener una buena aproximación."
      ],
      "metadata": {
        "id": "IkWeXqi1p_C0"
      }
    },
    {
      "cell_type": "markdown",
      "source": [
        "(d) ¿Cuántos términos son necesarios para obtener una suma parcial que esté dentro de 0.000001 de la suma?\n",
        "\n",
        "Necesitamos encontrar $n$ tal que $\\frac{1}{(n+1)!} < 0.000001 = 10^{-6}$.\n",
        "\n",
        "$(n+1)! > 10^6$\n",
        "\n",
        "Probemos algunos valores:\n",
        "$9! = 362880$\n",
        "$10! = 3628800 > 10^6$\n",
        "\n",
        "Entonces, necesitamos $n+1 = 10$, lo que significa $n = 9$. Necesitamos 10 términos (desde $j=0$ hasta $j=9$) para obtener una suma parcial que esté dentro de 0.000001 de la suma."
      ],
      "metadata": {
        "id": "vgi_Ec6RqRZO"
      }
    },
    {
      "cell_type": "markdown",
      "source": [
        "##Punto 7:\n",
        "### La pelota cae inicialmente desde una altura de $ h_0 = 10 $ metros.\n",
        "###vAdemas cada que la pelota rebota alcanza una altura maxima del 75% de la anterior:\n",
        "\n",
        "$ h_n = 0.75 \\cdot h_{n-1} $\n",
        "\n",
        "###La distancia total recorrida por la pelota es:\n",
        "\n",
        "$ \\text{Distancia total} = h_0 + 2 \\sum_{n=1}^{\\infty} h_n $\n",
        "\n",
        "### Donde la suma infinita de la serie geométrica es:\n",
        "\n",
        "$ S = \\frac{h_1}{1 - r} $\n",
        "\n",
        "### Donde $ h_1 = 0.75 \\times 10 = 7.5 $ metros y la razón de la serie es $ r = 0.75 $.\n",
        "\n",
        "##$ Sustituyendo en la fórmula de la distancia total:\n",
        "\n",
        "$ \\text{Distancia total} = 10 + 2 \\times \\frac{7.5}{1 - 0.75} $\n",
        "\n",
        "### Resolviendo:\n",
        "\n",
        "$ \\text{Distancia total} = 10 + 2 \\times \\frac{7.5}{0.25} $\n",
        "\n",
        "$ \\text{Distancia total} = 10 + 2 \\times 30 $\n",
        "\n",
        "$ \\text{Distancia total} = 10 + 60 = 70 $ metros."
      ],
      "metadata": {
        "id": "ZHxRt1B6FBh4"
      }
    },
    {
      "cell_type": "code",
      "source": [
        "import numpy as np\n",
        "import matplotlib.pyplot as plt\n",
        "\n",
        "# Parámetros del problema\n",
        "h0 = 10  # Altura inicial\n",
        "r = 0.75  # Razón de rebote\n",
        "n_rebotes = 20  # Número de rebotes a considerar para la visualización\n",
        "\n",
        "# Calcular la distancia total recorrida\n",
        "distancia_total = h0 + 2 * (h0 * r) / (1 - r)\n",
        "print(f\"La distancia total recorrida por la pelota es {distancia_total} metros.\")\n",
        "\n",
        "# Generar valores para graficar la serie de rebotes\n",
        "rebotes = np.arange(1, n_rebotes + 1)\n",
        "alturas = h0 * (r ** rebotes)\n",
        "\n",
        "# Graficar la serie\n",
        "plt.figure(figsize=(8, 5))\n",
        "plt.plot(rebotes, alturas, marker='o', linestyle='-', color='b', label=\"Altura de cada rebote\")\n",
        "plt.axhline(y=0, color='gray', linestyle='--', label=\"Suelo\")\n",
        "plt.xlabel(\"Número de rebote\")\n",
        "plt.ylabel(\"Altura (m)\")\n",
        "plt.title(\"Altura de cada rebote de la pelota\")\n",
        "plt.legend()\n",
        "plt.grid()\n",
        "plt.show()\n"
      ],
      "metadata": {
        "colab": {
          "base_uri": "https://localhost:8080/",
          "height": 504
        },
        "id": "Wh92h3vsFn9z",
        "outputId": "9664dfd4-3785-43d0-b24a-78b2a5c4334e"
      },
      "execution_count": null,
      "outputs": [
        {
          "output_type": "stream",
          "name": "stdout",
          "text": [
            "La distancia total recorrida por la pelota es 70.0 metros.\n"
          ]
        },
        {
          "output_type": "display_data",
          "data": {
            "text/plain": [
              "<Figure size 800x500 with 1 Axes>"
            ],
            "image/png": "[encoded data removed]"
          },
          "metadata": {}
        }
      ]
    },
    {
      "cell_type": "markdown",
      "source": [
        "#Punto 11:\n",
        "###La serie armónica se define como:\n",
        "\n",
        "$ H_n = \\sum_{k=1}^{n} \\frac{1}{k} $\n",
        "\n",
        "###Queremos encontrar el menor valor de $ n $ tal que $ H_n > 5 $.\n",
        "\n",
        "###Aproximación con la fórmula asintótica de la serie armónica:\n",
        "\n",
        "$ H_n \\approx \\ln(n) + \\gamma $\n",
        "\n",
        "###donde $ \\gamma \\approx 0.577 $ es la constante de Euler-Mascheroni.\n",
        "\n",
        "###Cálculo para $ H_n > 5 $\n",
        "###Resolvemos:\n",
        "\n",
        "$ \\ln(n) + 0.577 > 5 $\n",
        "\n",
        "$ \\ln(n) > 4.423 $\n",
        "\n",
        "$ n > e^{4.423} \\approx 83 $\n",
        "\n",
        "## Por lo tanto, se necesitan al menos 83 términos para que la suma sea mayor que 5."
      ],
      "metadata": {
        "id": "wcVy3P-aHbWZ"
      }
    }
  ],
  "metadata": {
    "colab": {
      "provenance": [],
      "include_colab_link": true
    },
    "kernelspec": {
      "display_name": "Python 3",
      "name": "python3"
    }
  },
  "nbformat": 4,
  "nbformat_minor": 0
}