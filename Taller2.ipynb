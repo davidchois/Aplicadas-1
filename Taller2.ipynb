{
  "nbformat": 4,
  "nbformat_minor": 0,
  "metadata": {
    "colab": {
      "provenance": [],
      "include_colab_link": true
    },
    "kernelspec": {
      "name": "python3",
      "display_name": "Python 3"
    },
    "language_info": {
      "name": "python"
    }
  },
  "cells": [
    {
      "cell_type": "markdown",
      "metadata": {
        "id": "view-in-github",
        "colab_type": "text"
      },
      "source": [
        "<a href=\"https://colab.research.google.com/github/davidchois/Aplicadas-1/blob/main/Taller2.ipynb\" target=\"_parent\"><img src=\"https://colab.research.google.com/assets/colab-badge.svg\" alt=\"Open In Colab\"/></a>"
      ]
    },
    {
      "cell_type": "markdown",
      "source": [
        "#*Taller 2:*\n",
        "##*Nombres:*\n",
        "### David Gonzalez Chois A00410841\n",
        "### Leonardo Andres Muñoz  A00412196\n",
        "### Luis Miguel Zambrano Sapuyes A00411441\n",
        "### Jose Manuel Alvarez Ruano A00411201"
      ],
      "metadata": {
        "id": "XqiSxvfJCqGE"
      }
    },
    {
      "cell_type": "markdown",
      "source": [
        "## **Ejercicio 1:**\n",
        "\n"
      ],
      "metadata": {
        "id": "XmbyqPdSBYml"
      }
    },
    {
      "cell_type": "code",
      "source": [
        "def es_primo(n):\n",
        "    if n < 2:\n",
        "        return False\n",
        "    for i in range(2, int(n ** 0.5) + 1):\n",
        "        if n % i == 0:\n",
        "            return False\n",
        "    return True\n",
        "\n",
        "def filtrar_primos(lista):\n",
        "    return [num for num in lista if es_primo(num)]\n",
        "\n",
        "numeros = [2, 3, 4, 5, 6, 7, 8, 9, 10, 11, 13, 15, 17, 19]\n",
        "primos = filtrar_primos(numeros)\n",
        "print(\"Numeros primos en la lista:\", primos)"
      ],
      "metadata": {
        "id": "EcNmJB2QBZGH",
        "colab": {
          "base_uri": "https://localhost:8080/"
        },
        "outputId": "78bc98f0-06a7-4db2-d9de-de9c92bb64e7"
      },
      "execution_count": 29,
      "outputs": [
        {
          "output_type": "stream",
          "name": "stdout",
          "text": [
            "Números primos en la lista: [2, 3, 5, 7, 11, 13, 17, 19]\n"
          ]
        }
      ]
    },
    {
      "cell_type": "markdown",
      "source": [
        "## **Ejercicio 2:**"
      ],
      "metadata": {
        "id": "xjkKccaSBZYD"
      }
    },
    {
      "cell_type": "code",
      "source": [
        "def elementos_comunes(lista1, lista2):\n",
        "    return list(set(lista1) & set(lista2))\n",
        "\n",
        "lista_a = [1, 2, 3, 4, 5, 6, 7]\n",
        "lista_b = [5, 6, 7, 8, 9, 10]\n",
        "comunes = elementos_comunes(lista_a, lista_b)\n",
        "print(\"Elementos comunes:\", comunes)"
      ],
      "metadata": {
        "id": "L3SSwpAvBZub",
        "colab": {
          "base_uri": "https://localhost:8080/"
        },
        "outputId": "413ad7f0-5ef0-469a-d61f-84c1d8365ce9"
      },
      "execution_count": 30,
      "outputs": [
        {
          "output_type": "stream",
          "name": "stdout",
          "text": [
            "Elementos comunes: [5, 6, 7]\n"
          ]
        }
      ]
    },
    {
      "cell_type": "markdown",
      "source": [
        "## **Ejercicio 3:**"
      ],
      "metadata": {
        "id": "5-fwzQemCjvH"
      }
    },
    {
      "cell_type": "code",
      "source": [
        "import numpy as np\n",
        "\n",
        "def matriz_cuadrada(lista):\n",
        "    n = len(lista)\n",
        "    raiz = int(np.sqrt(n))\n",
        "\n",
        "    if raiz * raiz != n:\n",
        "        return \"Error: La cantidad de elementos no permite formar una matriz cuadrada.\"\n",
        "\n",
        "    matriz = np.array(lista).reshape(raiz, raiz)\n",
        "    return matriz\n",
        "\n",
        "lista = [1, 2, 3, 4, 5, 6, 7, 8, 9]\n",
        "resultado = matriz_cuadrada(lista)\n",
        "print(resultado)"
      ],
      "metadata": {
        "id": "Xoi52C7_CpKL",
        "colab": {
          "base_uri": "https://localhost:8080/"
        },
        "outputId": "ce491eb3-3a70-47d3-b015-67c89c2f007b"
      },
      "execution_count": 31,
      "outputs": [
        {
          "output_type": "stream",
          "name": "stdout",
          "text": [
            "[[1 2 3]\n",
            " [4 5 6]\n",
            " [7 8 9]]\n"
          ]
        }
      ]
    },
    {
      "cell_type": "markdown",
      "source": [
        "## **Ejercicio 4:**"
      ],
      "metadata": {
        "id": "85o4dTyA__3W"
      }
    },
    {
      "cell_type": "code",
      "source": [
        "from statistics import mean, median, multimode\n",
        "def calcular_estadisticas(lista):\n",
        "    if not lista:\n",
        "        return \"La lista esta vacia.\"\n",
        "    media = mean(lista)\n",
        "    mediana = median(lista)\n",
        "    moda = multimode(lista)\n",
        "    return {\n",
        "        \"Media\": media,\n",
        "        \"Mediana\": mediana,\n",
        "        \"Moda\": moda\n",
        "    }\n",
        "numeros = (1, 2, 7, 3, 4, 4, 5, 6)\n",
        "resultado = calcular_estadisticas(numeros)\n",
        "print(resultado)"
      ],
      "metadata": {
        "id": "N1hO9dF4AE2m",
        "colab": {
          "base_uri": "https://localhost:8080/"
        },
        "outputId": "c180406a-1517-46af-e0fd-972e143925ea"
      },
      "execution_count": null,
      "outputs": [
        {
          "output_type": "stream",
          "name": "stdout",
          "text": [
            "{'Media': 4, 'Mediana': 4.0, 'Moda': [4]}\n"
          ]
        }
      ]
    },
    {
      "cell_type": "markdown",
      "source": [
        "## **Ejercicio 5:**"
      ],
      "metadata": {
        "id": "9ky4-m2LAHRd"
      }
    },
    {
      "cell_type": "code",
      "source": [
        "def calcular_total(precios, cantidades):\n",
        "    if len(precios) != len(cantidades):\n",
        "        return \"Error: Las listas deben tener la misma cantidad de elementos.\"\n",
        "    total = sum(precio * cantidad for precio, cantidad in zip(precios, cantidades))\n",
        "    if total > 100:\n",
        "        total *= 0.9\n",
        "    return round(total, 2)\n",
        "precios = (20, 15, 30, 10)\n",
        "cantidades = (2, 1, 3, 4)\n",
        "total_pagar = calcular_total(precios, cantidades)\n",
        "print(\"Total a Pagar:\", total_pagar)"
      ],
      "metadata": {
        "id": "cGP4h80jALJO",
        "colab": {
          "base_uri": "https://localhost:8080/"
        },
        "outputId": "f61c73fd-5e74-482a-c9ba-ba675c3b3d2d"
      },
      "execution_count": null,
      "outputs": [
        {
          "output_type": "stream",
          "name": "stdout",
          "text": [
            "Total a Pagar: 166.5\n"
          ]
        }
      ]
    },
    {
      "cell_type": "markdown",
      "source": [
        "## **Ejercicio 6:**"
      ],
      "metadata": {
        "id": "T2f0-u3sARtO"
      }
    },
    {
      "cell_type": "code",
      "source": [
        "def actualizar_inventario(inventario, vendidos):\n",
        "    return [producto for producto in inventario if producto not in vendidos]\n",
        "inventario = (\"manzanas\", \"bananas\", \"naranjas\", \"peras\", \"uvas\")\n",
        "vendidos = (\"bananas\", \"peras\")\n",
        "inventario_actualizado = actualizar_inventario(inventario, vendidos)\n",
        "print(\"Inventario actualizado:\", inventario_actualizado)"
      ],
      "metadata": {
        "id": "3Ti6dWm6ARCP",
        "colab": {
          "base_uri": "https://localhost:8080/"
        },
        "outputId": "0bf879c4-7d1c-4d99-c314-e6ab6a619f92"
      },
      "execution_count": null,
      "outputs": [
        {
          "output_type": "stream",
          "name": "stdout",
          "text": [
            "Inventario actualizado: ['manzanas', 'naranjas', 'uvas']\n"
          ]
        }
      ]
    },
    {
      "cell_type": "markdown",
      "source": [
        "## **Ejercicio 7:**"
      ],
      "metadata": {
        "id": "YZ5AszgE_7e2"
      }
    },
    {
      "cell_type": "code",
      "source": [
        "def clasificar_temperaturas(temperaturas):\n",
        "    dias_calidos = sum(1 for t in temperaturas if t > 30)\n",
        "    dias_temperados = sum(1 for t in temperaturas if 20 <= t <= 30)\n",
        "    dias_frios = sum(1 for t in temperaturas if t < 20)\n",
        "    return {\n",
        "        \"Dias calurosos (>30°C)\": dias_calidos,\n",
        "        \"Dias templados (20°C-30°C)\": dias_temperados,\n",
        "        \"Dias fríos (<20°C)\": dias_frios\n",
        "    }\n",
        "temperaturas = (18, 22, 25, 30, 32, 28, 19, 15, 35, 29, 31, 21)\n",
        "resultado = clasificar_temperaturas(temperaturas)\n",
        "print(resultado)"
      ],
      "metadata": {
        "id": "wqi-KsgHAY-e",
        "colab": {
          "base_uri": "https://localhost:8080/"
        },
        "outputId": "f72b391b-34d9-4610-ac43-6cabc3d75567"
      },
      "execution_count": null,
      "outputs": [
        {
          "output_type": "stream",
          "name": "stdout",
          "text": [
            "{'Días calurosos (>30°C)': 3, 'Días templados (20°C-30°C)': 6, 'Días fríos (<20°C)': 3}\n"
          ]
        }
      ]
    },
    {
      "cell_type": "markdown",
      "source": [
        "## **Ejercicio 8:**"
      ],
      "metadata": {
        "id": "3rxOWr9QB4IU"
      }
    },
    {
      "cell_type": "code",
      "source": [
        "def calcular_calorias(alimentos, calorias):\n",
        "    if len(alimentos) != len(calorias):\n",
        "        return \"Error: La lista de alimentos y la de calorías deben tener la misma longitud.\"\n",
        "    total_calorias = sum(calorias)\n",
        "\n",
        "    if total_calorias > 2000:\n",
        "        mensaje = (f\"Total de calorías consumidas: {total_calorias}.\\n\"\n",
        "                  \"Has superado las 2000 calorias diarias recomendadas.\")\n",
        "    else:\n",
        "        mensaje = (f\"Total de calorías consumidas: {total_calorias}.\"\n",
        "                   \"Estás dentro del rango recomendado de calorias diarias.\")\n",
        "\n",
        "    return mensaje\n",
        "\n",
        "\n",
        "alimentos = [\"Manzana\", \"Sandwich\", \"Ensalada\", \"Galletas\"]\n",
        "calorias = [95, 350, 150, 1800]\n",
        "\n",
        "print(\"Calculadora de calorias consumidas:\")\n",
        "print(calcular_calorias(alimentos, calorias))"
      ],
      "metadata": {
        "colab": {
          "base_uri": "https://localhost:8080/"
        },
        "id": "b6XHXsrcB53e",
        "outputId": "9ee73538-2ff7-4c4b-b7fb-f178aeb50e6f"
      },
      "execution_count": null,
      "outputs": [
        {
          "output_type": "stream",
          "name": "stdout",
          "text": [
            "Calculadora de calorias consumidas:\n",
            "Total de calorías consumidas: 2395.\n",
            "Has superado las 2000 calorías diarias recomendadas.\n"
          ]
        }
      ]
    },
    {
      "cell_type": "markdown",
      "source": [
        "## **Ejercicio 9:**"
      ],
      "metadata": {
        "id": "3ZzNlozuCAKK"
      }
    },
    {
      "cell_type": "code",
      "source": [
        "def promedio_ventas(ventas):\n",
        "    if len(ventas) != 12:\n",
        "        return \"Error: Debe haber 12 valores de ventas mensuales.\"\n",
        "    else:\n",
        "      prom = sum(ventas) / 12\n",
        "      meses_encima = len([v for v in ventas if v > prom])\n",
        "      return prom, meses_encima\n",
        "\n",
        "\n",
        "ventas_mensuales = [1200, 1500, 1300, 1400, 1600, 1700, 2000, 1900, 1800, 1750, 1650, 1550]\n",
        "promedio, meses_superiores = promedio_ventas(ventas_mensuales)\n",
        "\n",
        "print(\"VENTAS:\")\n",
        "print(\"Promedio de ventas mensuales:\", promedio)\n",
        "print(\"Meses por encima del promedio:\", meses_superiores)"
      ],
      "metadata": {
        "colab": {
          "base_uri": "https://localhost:8080/"
        },
        "id": "3MvgToVQCCzn",
        "outputId": "0048fe05-37f9-451e-f424-4bbb16145c9f"
      },
      "execution_count": null,
      "outputs": [
        {
          "output_type": "stream",
          "name": "stdout",
          "text": [
            "VENTAS:\n",
            "Promedio de ventas mensuales: 1612.5\n",
            "Meses por encima del promedio: 6\n"
          ]
        }
      ]
    },
    {
      "cell_type": "markdown",
      "source": [
        "## **Ejercicio 10:**"
      ],
      "metadata": {
        "id": "78mHcOF-CGPn"
      }
    },
    {
      "cell_type": "code",
      "source": [
        "def aplicar_descuento(total):\n",
        "    if 50 <= total <= 100:\n",
        "        descuento = 0.05\n",
        "    elif 100 < total < 200:\n",
        "        descuento = 0.10\n",
        "    elif total >= 200:\n",
        "        descuento = 0.15\n",
        "    else:\n",
        "        descuento = 0\n",
        "\n",
        "    total_con_descuento = total - (total * descuento)\n",
        "    return total_con_descuento\n",
        "\n",
        "compra1 = 75\n",
        "compra2 = 150\n",
        "compra3 = 250\n",
        "print(\"Sistema de descuentos de la tienda:\")\n",
        "print(\"Total final de compra No.1: $\", aplicar_descuento(compra1))\n",
        "print(\"Total final de compra No.2: $\", aplicar_descuento(compra2))\n",
        "print(\"Total final de compra No.3: $\", aplicar_descuento(compra3))"
      ],
      "metadata": {
        "colab": {
          "base_uri": "https://localhost:8080/"
        },
        "id": "3awb5lohCJAE",
        "outputId": "52b8e46d-9af0-4d9a-9550-51ee56ce625b"
      },
      "execution_count": null,
      "outputs": [
        {
          "output_type": "stream",
          "name": "stdout",
          "text": [
            "Sistema de descuentos de la tienda:\n",
            "Total final de compra No.1: $ 71.25\n",
            "Total final de compra No.2: $ 135.0\n",
            "Total final de compra No.3: $ 212.5\n"
          ]
        }
      ]
    },
    {
      "cell_type": "markdown",
      "source": [
        "## **Ejercicio 11:**"
      ],
      "metadata": {
        "id": "-a9UV7F6zD6r"
      }
    },
    {
      "cell_type": "code",
      "source": [
        "def pacientes_prioritarios(names, ages):\n",
        "    prioritarios = []\n",
        "    for i in range(len(names)):\n",
        "        if ages[i] > 60:\n",
        "            prioritarios.append(names[i])\n",
        "    return prioritarios\n",
        "\n",
        "names = [\"Jose\", \"Leonardo\", \"Luis\", \"David\"]\n",
        "ages = [14, 75, 82, 34]\n",
        "\n",
        "prioritarios = pacientes_prioritarios(names, ages)\n",
        "\n",
        "print(\"Estos pacientes requieren atencion prioritaria:\", prioritarios)\n",
        "\n"
      ],
      "metadata": {
        "id": "KAwhheeqGHSO",
        "colab": {
          "base_uri": "https://localhost:8080/"
        },
        "outputId": "6d099979-34eb-4cf3-e842-4c18db9882af"
      },
      "execution_count": null,
      "outputs": [
        {
          "output_type": "stream",
          "name": "stdout",
          "text": [
            "Estos pascientes requieren atencion priritaria: ['Leonardo', 'Luis']\n"
          ]
        }
      ]
    },
    {
      "cell_type": "markdown",
      "source": [
        "## **Ejercicio 12:**"
      ],
      "metadata": {
        "id": "F4Dq15hgsBTx"
      }
    },
    {
      "cell_type": "code",
      "source": [
        "def calcular_gastos(mes, categorias, gastos):\n",
        "    total_gastos = 0\n",
        "    gasto_maximo = gastos[0]\n",
        "    categoria_maxima = categorias[0]\n",
        "\n",
        "    for i in range(len(gastos)):\n",
        "        total_gastos += gastos[i]\n",
        "        if gastos[i] > gasto_maximo:\n",
        "            gasto_maximo = gastos[i]\n",
        "            categoria_maxima = categorias[i]\n",
        "\n",
        "    print(\"El total de gastos de\", mes, \"fue de:\", total_gastos)\n",
        "    print(\"El gasto mas alto de este mes fue de:\", gasto_maximo, \"en la categoria de\", categoria_maxima)\n",
        "\n",
        "mes = input(\"Ingrese el mes: \")\n",
        "categorias = [\"Seguro\", \"Comida\", \"Transporte\", \"Entretenimiento\", \"Servicios\", \"Universidad\"]\n",
        "gastos = [250, 300, 100, 150, 200, 600, 500]\n",
        "\n",
        "calcular_gastos(mes, categorias, gastos)\n"
      ],
      "metadata": {
        "colab": {
          "base_uri": "https://localhost:8080/"
        },
        "id": "TkALPUZusC_j",
        "outputId": "de67e9c0-361a-4194-ca79-386d17b2d8ba"
      },
      "execution_count": null,
      "outputs": [
        {
          "output_type": "stream",
          "name": "stdout",
          "text": [
            "Ingrese el mes: Enero\n",
            "El total de gastos de Enero fue de: 2100\n",
            "El gasto mas alto de este mes fue de: 600 en la categoria de Universidad\n"
          ]
        }
      ]
    },
    {
      "cell_type": "markdown",
      "source": [
        "## **Ejercicio 13:**"
      ],
      "metadata": {
        "id": "NC9LlpaltnDR"
      }
    },
    {
      "cell_type": "code",
      "source": [
        "def lista_inasistentes(registrados, asistentes):\n",
        "    no_asistentes = []\n",
        "    for persona in registrados:\n",
        "        if persona not in asistentes:\n",
        "            no_asistentes.append(persona)\n",
        "    return no_asistentes\n",
        "\n",
        "registrados = [\"Luis\", \"Jose\", \"Leonardo\", \"David\"]\n",
        "asistentes = [\"Leonardo\", \"David\"]\n",
        "\n",
        "no_asistentes = lista_inasistentes(registrados, asistentes)\n",
        "\n",
        "print(\"Las personas que no asistieron fueron:\", no_asistentes)\n",
        "\n"
      ],
      "metadata": {
        "colab": {
          "base_uri": "https://localhost:8080/"
        },
        "id": "foqwVLdStpYx",
        "outputId": "6480f0db-fcf1-474d-c2da-849d137b7818"
      },
      "execution_count": null,
      "outputs": [
        {
          "output_type": "stream",
          "name": "stdout",
          "text": [
            "Las personas que no asistieron fueron: ['Luis', 'Jose']\n"
          ]
        }
      ]
    },
    {
      "cell_type": "markdown",
      "source": [
        "## **Ejercicio 14:**"
      ],
      "metadata": {
        "id": "OfBnSwPcxhQJ"
      }
    },
    {
      "cell_type": "code",
      "source": [
        "nombre = input(\"Ingrese su nombre: \")\n",
        "def ejercicio_promedio(ejercicio):\n",
        "    total_minutos = 0\n",
        "\n",
        "    for minutos in ejercicio:\n",
        "        total_minutos += minutos\n",
        "\n",
        "    promedio = total_minutos / len(ejercicio)\n",
        "\n",
        "    if promedio > 60:\n",
        "        mensaje = \"Excelente, estas en forma\"\n",
        "    elif promedio >= 30:\n",
        "        mensaje = \"Buen trabajo, pero puedes mejorar\"\n",
        "    else:\n",
        "        mensaje = \"Debes hacer mas ejercicio\"\n",
        "\n",
        "    print(nombre,\"Su promedio diario de ejercicio fue de :\", promedio)\n",
        "    print(mensaje)\n",
        "\n",
        "ejercicio = [60, 50, 90, 70, 80, 20, 60]\n",
        "\n",
        "ejercicio_promedio(ejercicio)\n",
        "\n"
      ],
      "metadata": {
        "colab": {
          "base_uri": "https://localhost:8080/"
        },
        "id": "E6UmirRhxh3X",
        "outputId": "7c65bf12-a0de-4d14-b985-9c876dd5dd13"
      },
      "execution_count": null,
      "outputs": [
        {
          "output_type": "stream",
          "name": "stdout",
          "text": [
            "Ingrese su nombre: David\n",
            "David  Su promedio diario de ejercicio fue de : 61.42857142857143\n",
            "Excelente, estas en forma\n"
          ]
        }
      ]
    }
  ]
}